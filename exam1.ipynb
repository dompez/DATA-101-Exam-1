{
 "cells": [
  {
   "cell_type": "markdown",
   "id": "4c06def5-e628-4bf9-aa13-bfd03d462522",
   "metadata": {},
   "source": [
    "# Exam 1\n",
    "### Author: \n",
    "#### Dominic L Perez"
   ]
  },
  {
   "cell_type": "code",
   "execution_count": 227,
   "id": "60d9e4cf-3bd0-4030-959a-2517deb0ad46",
   "metadata": {},
   "outputs": [],
   "source": [
    "#Data managing and analytics packages:\n",
    "import numpy as np\n",
    "import pandas as pd\n",
    "\n",
    "#Data visualization packages:\n",
    "import matplotlib.pyplot as plt\n",
    "import plotly.express as px\n",
    "from plotly.subplots import make_subplots\n",
    "import plotly.io as pio\n",
    "pio.renderers.defaule = 'colab'\n",
    "\n",
    "#Data exploration package:\n",
    "from itables import show"
   ]
  },
  {
   "cell_type": "markdown",
   "id": "e31af7c1-a857-4d9a-91ae-129a7e5666f2",
   "metadata": {},
   "source": [
    "## Sample of Lego Sets\n",
    "### Description\n",
    "Data about Lego Sets for sale. Based on JSDSE article by Anna Peterson and Laura Ziegler Data from their article was scrapped from multiple sources including brickset.com\n",
    "### Usage\n",
    "lego_sample\n",
    "### Format\n",
    "A data frame with 75 rows and 15 variables.\n",
    "|Data Variable Name|Description|\n",
    "|-------------|----|\n",
    "|item_number|Set Item number|\n",
    "|set_name|Name of the set|\n",
    "|theme|Set theme either Duplo, City or Friends|\n",
    "|pieces|Number of pieces in the set|\n",
    "|price|Recommended retail price from LEGO|\n",
    "|amazon_price|Price of the set at Amazon|\n",
    "|year|Year that it was produced|\n",
    "|ages|LEGO's recommended ages of children for the set|\n",
    "|pages|Pages in the instruction booklet|\n",
    "|minifigures|Number of LEGO people in the data, if unknown \"NA\" was recorded|\n",
    "|packaging|Type of packaging: bag, box, etc|\n",
    "|weight|Weight of the set of LEGOS in pounds and kilograms|\n",
    "|unique_pieces|Number of pieces classified as unique in the instruction manual|\n",
    "|availability|Where can it be purchased, retail, only from LEGO, etc|\n",
    "|size|Size of the lego pieces: Large if safe for small children and Small for older children|\n",
    "## Source\n",
    "[Peterson, A. D., & Ziegler, L. (2021). Building a multiple linear regression model with LEGO brick data. Journal of Statistics and Data Science Education, 29(3),1-7. doi.org/10.1080/26939169.2021.1946450](https://www.tandfonline.com/doi/full/10.1080/26939169.2021.1946450)\n"
   ]
  },
  {
   "cell_type": "markdown",
   "id": "aa23c750-602a-4d1b-b676-bdc4f794a491",
   "metadata": {
    "jp-MarkdownHeadingCollapsed": true
   },
   "source": [
    "### Preparation"
   ]
  },
  {
   "cell_type": "code",
   "execution_count": 2,
   "id": "60aa7492-5cae-451f-8c3b-d0cf78bf3f56",
   "metadata": {},
   "outputs": [
    {
     "data": {
      "text/html": [
       "<div>\n",
       "<style scoped>\n",
       "    .dataframe tbody tr th:only-of-type {\n",
       "        vertical-align: middle;\n",
       "    }\n",
       "\n",
       "    .dataframe tbody tr th {\n",
       "        vertical-align: top;\n",
       "    }\n",
       "\n",
       "    .dataframe thead th {\n",
       "        text-align: right;\n",
       "    }\n",
       "</style>\n",
       "<table border=\"1\" class=\"dataframe\">\n",
       "  <thead>\n",
       "    <tr style=\"text-align: right;\">\n",
       "      <th></th>\n",
       "      <th>item_number</th>\n",
       "      <th>set_name</th>\n",
       "      <th>theme</th>\n",
       "      <th>pieces</th>\n",
       "      <th>price</th>\n",
       "      <th>amazon_price</th>\n",
       "      <th>year</th>\n",
       "      <th>ages</th>\n",
       "      <th>pages</th>\n",
       "      <th>minifigures</th>\n",
       "      <th>packaging</th>\n",
       "      <th>weight</th>\n",
       "      <th>unique_pieces</th>\n",
       "      <th>size</th>\n",
       "    </tr>\n",
       "  </thead>\n",
       "  <tbody>\n",
       "    <tr>\n",
       "      <th>0</th>\n",
       "      <td>10859</td>\n",
       "      <td>My First Ladybird</td>\n",
       "      <td>DUPLO®</td>\n",
       "      <td>6</td>\n",
       "      <td>4.99</td>\n",
       "      <td>16.00</td>\n",
       "      <td>2018</td>\n",
       "      <td>Ages_1½-3</td>\n",
       "      <td>9</td>\n",
       "      <td>NaN</td>\n",
       "      <td>Box</td>\n",
       "      <td>NaN</td>\n",
       "      <td>5</td>\n",
       "      <td>Large</td>\n",
       "    </tr>\n",
       "    <tr>\n",
       "      <th>1</th>\n",
       "      <td>10860</td>\n",
       "      <td>My First Race Car</td>\n",
       "      <td>DUPLO®</td>\n",
       "      <td>6</td>\n",
       "      <td>4.99</td>\n",
       "      <td>9.45</td>\n",
       "      <td>2018</td>\n",
       "      <td>Ages_1½-3</td>\n",
       "      <td>9</td>\n",
       "      <td>NaN</td>\n",
       "      <td>Box</td>\n",
       "      <td>0.13Kg (0.29 lb)</td>\n",
       "      <td>6</td>\n",
       "      <td>Large</td>\n",
       "    </tr>\n",
       "    <tr>\n",
       "      <th>2</th>\n",
       "      <td>10862</td>\n",
       "      <td>My First Celebration</td>\n",
       "      <td>DUPLO®</td>\n",
       "      <td>41</td>\n",
       "      <td>14.99</td>\n",
       "      <td>39.89</td>\n",
       "      <td>2018</td>\n",
       "      <td>Ages_1½-3</td>\n",
       "      <td>9</td>\n",
       "      <td>NaN</td>\n",
       "      <td>Box</td>\n",
       "      <td>NaN</td>\n",
       "      <td>18</td>\n",
       "      <td>Large</td>\n",
       "    </tr>\n",
       "    <tr>\n",
       "      <th>3</th>\n",
       "      <td>10864</td>\n",
       "      <td>Large Playground Brick Box</td>\n",
       "      <td>DUPLO®</td>\n",
       "      <td>71</td>\n",
       "      <td>49.99</td>\n",
       "      <td>56.69</td>\n",
       "      <td>2018</td>\n",
       "      <td>Ages_2-5</td>\n",
       "      <td>32</td>\n",
       "      <td>2.0</td>\n",
       "      <td>Plastic box</td>\n",
       "      <td>1.41Kg (3.11 lb)</td>\n",
       "      <td>49</td>\n",
       "      <td>Large</td>\n",
       "    </tr>\n",
       "    <tr>\n",
       "      <th>4</th>\n",
       "      <td>10867</td>\n",
       "      <td>Farmers' Market</td>\n",
       "      <td>DUPLO®</td>\n",
       "      <td>26</td>\n",
       "      <td>19.99</td>\n",
       "      <td>36.99</td>\n",
       "      <td>2018</td>\n",
       "      <td>Ages_2-5</td>\n",
       "      <td>9</td>\n",
       "      <td>3.0</td>\n",
       "      <td>Box</td>\n",
       "      <td>NaN</td>\n",
       "      <td>18</td>\n",
       "      <td>Large</td>\n",
       "    </tr>\n",
       "  </tbody>\n",
       "</table>\n",
       "</div>"
      ],
      "text/plain": [
       "   item_number                    set_name   theme  pieces  price  \\\n",
       "0        10859           My First Ladybird  DUPLO®       6   4.99   \n",
       "1        10860           My First Race Car  DUPLO®       6   4.99   \n",
       "2        10862        My First Celebration  DUPLO®      41  14.99   \n",
       "3        10864  Large Playground Brick Box  DUPLO®      71  49.99   \n",
       "4        10867             Farmers' Market  DUPLO®      26  19.99   \n",
       "\n",
       "   amazon_price  year       ages  pages  minifigures    packaging  \\\n",
       "0         16.00  2018  Ages_1½-3      9          NaN          Box   \n",
       "1          9.45  2018  Ages_1½-3      9          NaN          Box   \n",
       "2         39.89  2018  Ages_1½-3      9          NaN          Box   \n",
       "3         56.69  2018   Ages_2-5     32          2.0  Plastic box   \n",
       "4         36.99  2018   Ages_2-5      9          3.0          Box   \n",
       "\n",
       "             weight  unique_pieces   size  \n",
       "0               NaN              5  Large  \n",
       "1  0.13Kg (0.29 lb)              6  Large  \n",
       "2               NaN             18  Large  \n",
       "3  1.41Kg (3.11 lb)             49  Large  \n",
       "4               NaN             18  Large  "
      ]
     },
     "execution_count": 2,
     "metadata": {},
     "output_type": "execute_result"
    }
   ],
   "source": [
    "# Insert code here\n",
    "# Load data\n",
    "file_path = 'https://joannabieri.com/introdatascience/data/lego_sample.csv'\n",
    "df_raw = pd.read_csv(file_path)\n",
    "df_raw.head()"
   ]
  },
  {
   "cell_type": "markdown",
   "id": "7fffc87a-1099-4b15-8df5-85fa70ebe74c",
   "metadata": {
    "jp-MarkdownHeadingCollapsed": true
   },
   "source": [
    "### Problem 1 (10 Points)"
   ]
  },
  {
   "cell_type": "markdown",
   "id": "b6670a00-3fcb-4f62-9f42-515a7fe07729",
   "metadata": {},
   "source": [
    "#### (a) How many variables and observations are there in the data set?"
   ]
  },
  {
   "cell_type": "code",
   "execution_count": 3,
   "id": "b3dec98d-6350-43c4-b6fa-3cc2d4e9c8e0",
   "metadata": {},
   "outputs": [
    {
     "name": "stdout",
     "output_type": "stream",
     "text": [
      "There are 75 observations.\n",
      "There are 14 variables.\n"
     ]
    }
   ],
   "source": [
    "# Insert code here\n",
    "print('There are', df_raw.shape[0],'observations.')\n",
    "print('There are', df_raw.shape[1],'variables.')"
   ]
  },
  {
   "cell_type": "markdown",
   "id": "090d51d6-19df-419e-84ed-5b1b43d172c5",
   "metadata": {},
   "source": [
    "#### (b) What are the names of all the variables?"
   ]
  },
  {
   "cell_type": "code",
   "execution_count": 4,
   "id": "a5597599-af72-49a0-a49f-e8bfc148a4e0",
   "metadata": {},
   "outputs": [
    {
     "data": {
      "text/html": [
       "<div>\n",
       "<style scoped>\n",
       "    .dataframe tbody tr th:only-of-type {\n",
       "        vertical-align: middle;\n",
       "    }\n",
       "\n",
       "    .dataframe tbody tr th {\n",
       "        vertical-align: top;\n",
       "    }\n",
       "\n",
       "    .dataframe thead th {\n",
       "        text-align: right;\n",
       "    }\n",
       "</style>\n",
       "<table border=\"1\" class=\"dataframe\">\n",
       "  <thead>\n",
       "    <tr style=\"text-align: right;\">\n",
       "      <th></th>\n",
       "      <th>Column Names</th>\n",
       "    </tr>\n",
       "  </thead>\n",
       "  <tbody>\n",
       "    <tr>\n",
       "      <th>0</th>\n",
       "      <td>item_number</td>\n",
       "    </tr>\n",
       "    <tr>\n",
       "      <th>1</th>\n",
       "      <td>set_name</td>\n",
       "    </tr>\n",
       "    <tr>\n",
       "      <th>2</th>\n",
       "      <td>theme</td>\n",
       "    </tr>\n",
       "    <tr>\n",
       "      <th>3</th>\n",
       "      <td>pieces</td>\n",
       "    </tr>\n",
       "    <tr>\n",
       "      <th>4</th>\n",
       "      <td>price</td>\n",
       "    </tr>\n",
       "    <tr>\n",
       "      <th>5</th>\n",
       "      <td>amazon_price</td>\n",
       "    </tr>\n",
       "    <tr>\n",
       "      <th>6</th>\n",
       "      <td>year</td>\n",
       "    </tr>\n",
       "    <tr>\n",
       "      <th>7</th>\n",
       "      <td>ages</td>\n",
       "    </tr>\n",
       "    <tr>\n",
       "      <th>8</th>\n",
       "      <td>pages</td>\n",
       "    </tr>\n",
       "    <tr>\n",
       "      <th>9</th>\n",
       "      <td>minifigures</td>\n",
       "    </tr>\n",
       "    <tr>\n",
       "      <th>10</th>\n",
       "      <td>packaging</td>\n",
       "    </tr>\n",
       "    <tr>\n",
       "      <th>11</th>\n",
       "      <td>weight</td>\n",
       "    </tr>\n",
       "    <tr>\n",
       "      <th>12</th>\n",
       "      <td>unique_pieces</td>\n",
       "    </tr>\n",
       "    <tr>\n",
       "      <th>13</th>\n",
       "      <td>size</td>\n",
       "    </tr>\n",
       "  </tbody>\n",
       "</table>\n",
       "</div>"
      ],
      "text/plain": [
       "     Column Names\n",
       "0     item_number\n",
       "1        set_name\n",
       "2           theme\n",
       "3          pieces\n",
       "4           price\n",
       "5    amazon_price\n",
       "6            year\n",
       "7            ages\n",
       "8           pages\n",
       "9     minifigures\n",
       "10      packaging\n",
       "11         weight\n",
       "12  unique_pieces\n",
       "13           size"
      ]
     },
     "execution_count": 4,
     "metadata": {},
     "output_type": "execute_result"
    }
   ],
   "source": [
    "# Insert code here\n",
    "df_columns = pd.DataFrame(df_raw.columns)\n",
    "df_columns.rename(columns = {0:'Column Names'}, inplace = True)\n",
    "df_columns"
   ]
  },
  {
   "cell_type": "markdown",
   "id": "bd498ea8-2c2f-4ad2-a718-9f1f86390493",
   "metadata": {},
   "source": [
    "#### (c) For each variable, talk about whether you think that variable is numerical or categorical, and what type of data it is."
   ]
  },
  {
   "cell_type": "code",
   "execution_count": 5,
   "id": "f4e375c2-3780-45f6-ba2c-aae4be7d3dca",
   "metadata": {},
   "outputs": [
    {
     "name": "stdout",
     "output_type": "stream",
     "text": [
      "<class 'pandas.core.frame.DataFrame'>\n",
      "RangeIndex: 75 entries, 0 to 74\n",
      "Data columns (total 14 columns):\n",
      " #   Column         Non-Null Count  Dtype  \n",
      "---  ------         --------------  -----  \n",
      " 0   item_number    75 non-null     int64  \n",
      " 1   set_name       75 non-null     object \n",
      " 2   theme          75 non-null     object \n",
      " 3   pieces         75 non-null     int64  \n",
      " 4   price          75 non-null     float64\n",
      " 5   amazon_price   75 non-null     float64\n",
      " 6   year           75 non-null     int64  \n",
      " 7   ages           75 non-null     object \n",
      " 8   pages          75 non-null     int64  \n",
      " 9   minifigures    65 non-null     float64\n",
      " 10  packaging      68 non-null     object \n",
      " 11  weight         39 non-null     object \n",
      " 12  unique_pieces  75 non-null     int64  \n",
      " 13  size           75 non-null     object \n",
      "dtypes: float64(3), int64(5), object(6)\n",
      "memory usage: 8.3+ KB\n",
      "None\n"
     ]
    }
   ],
   "source": [
    "# Insert code here\n",
    "print(df_raw.info())"
   ]
  },
  {
   "cell_type": "markdown",
   "id": "599a9c78-4f4f-4acc-aae8-74b01a153466",
   "metadata": {},
   "source": [
    "|Data Variable Name|Categorical or Numerical|Data Type|\n",
    "|------------------|-----------|---------|\n",
    "|item_number|Numerical|int64|\n",
    "|set_name|Categorical|object|\n",
    "|theme|Categorical|object|\n",
    "|pieces|Numerical|int64|\n",
    "|price|Numerical|float64|\n",
    "|amazon_price|Numerical|float64|\n",
    "|year|Numerical|int64|\n",
    "|ages|Categorical|object|\n",
    "|pages|Numerical|int64|\n",
    "|minifigures|Numerical|float64|\n",
    "|packaging|Categorical|object|\n",
    "|weight|Categorical|object|\n",
    "|unique_pieces|Numerical|int64|\n",
    "|size|Categorical|object|"
   ]
  },
  {
   "cell_type": "markdown",
   "id": "a1e0d04a-1344-4af2-91d6-31fe195c8d5d",
   "metadata": {},
   "source": [
    "#### (d) Use describe to get some basic statistics about the numerical data. Comment on at least four things that you learned by looking at these statistics."
   ]
  },
  {
   "cell_type": "code",
   "execution_count": 6,
   "id": "d71ba13f-6565-4a7e-96a8-c0458c17f9d8",
   "metadata": {},
   "outputs": [
    {
     "data": {
      "text/html": [
       "<div>\n",
       "<style scoped>\n",
       "    .dataframe tbody tr th:only-of-type {\n",
       "        vertical-align: middle;\n",
       "    }\n",
       "\n",
       "    .dataframe tbody tr th {\n",
       "        vertical-align: top;\n",
       "    }\n",
       "\n",
       "    .dataframe thead th {\n",
       "        text-align: right;\n",
       "    }\n",
       "</style>\n",
       "<table border=\"1\" class=\"dataframe\">\n",
       "  <thead>\n",
       "    <tr style=\"text-align: right;\">\n",
       "      <th></th>\n",
       "      <th>count</th>\n",
       "      <th>mean</th>\n",
       "      <th>std</th>\n",
       "      <th>min</th>\n",
       "      <th>25%</th>\n",
       "      <th>50%</th>\n",
       "      <th>75%</th>\n",
       "      <th>max</th>\n",
       "    </tr>\n",
       "  </thead>\n",
       "  <tbody>\n",
       "    <tr>\n",
       "      <th>pieces</th>\n",
       "      <td>75.0</td>\n",
       "      <td>196.453333</td>\n",
       "      <td>213.914121</td>\n",
       "      <td>6.00</td>\n",
       "      <td>37.00</td>\n",
       "      <td>93.00</td>\n",
       "      <td>323.500</td>\n",
       "      <td>897.00</td>\n",
       "    </tr>\n",
       "    <tr>\n",
       "      <th>price</th>\n",
       "      <td>75.0</td>\n",
       "      <td>32.136667</td>\n",
       "      <td>27.747263</td>\n",
       "      <td>4.99</td>\n",
       "      <td>9.99</td>\n",
       "      <td>19.99</td>\n",
       "      <td>39.990</td>\n",
       "      <td>149.99</td>\n",
       "    </tr>\n",
       "    <tr>\n",
       "      <th>amazon_price</th>\n",
       "      <td>75.0</td>\n",
       "      <td>39.393733</td>\n",
       "      <td>33.301259</td>\n",
       "      <td>6.29</td>\n",
       "      <td>17.98</td>\n",
       "      <td>29.99</td>\n",
       "      <td>53.935</td>\n",
       "      <td>184.99</td>\n",
       "    </tr>\n",
       "    <tr>\n",
       "      <th>pages</th>\n",
       "      <td>75.0</td>\n",
       "      <td>73.213333</td>\n",
       "      <td>76.949842</td>\n",
       "      <td>1.00</td>\n",
       "      <td>14.00</td>\n",
       "      <td>44.00</td>\n",
       "      <td>116.000</td>\n",
       "      <td>389.00</td>\n",
       "    </tr>\n",
       "    <tr>\n",
       "      <th>minifigures</th>\n",
       "      <td>65.0</td>\n",
       "      <td>2.615385</td>\n",
       "      <td>2.133749</td>\n",
       "      <td>1.00</td>\n",
       "      <td>1.00</td>\n",
       "      <td>2.00</td>\n",
       "      <td>3.000</td>\n",
       "      <td>15.00</td>\n",
       "    </tr>\n",
       "    <tr>\n",
       "      <th>unique_pieces</th>\n",
       "      <td>75.0</td>\n",
       "      <td>96.666667</td>\n",
       "      <td>89.471018</td>\n",
       "      <td>5.00</td>\n",
       "      <td>30.00</td>\n",
       "      <td>61.00</td>\n",
       "      <td>151.000</td>\n",
       "      <td>411.00</td>\n",
       "    </tr>\n",
       "  </tbody>\n",
       "</table>\n",
       "</div>"
      ],
      "text/plain": [
       "               count        mean         std   min    25%    50%      75%  \\\n",
       "pieces          75.0  196.453333  213.914121  6.00  37.00  93.00  323.500   \n",
       "price           75.0   32.136667   27.747263  4.99   9.99  19.99   39.990   \n",
       "amazon_price    75.0   39.393733   33.301259  6.29  17.98  29.99   53.935   \n",
       "pages           75.0   73.213333   76.949842  1.00  14.00  44.00  116.000   \n",
       "minifigures     65.0    2.615385    2.133749  1.00   1.00   2.00    3.000   \n",
       "unique_pieces   75.0   96.666667   89.471018  5.00  30.00  61.00  151.000   \n",
       "\n",
       "                  max  \n",
       "pieces         897.00  \n",
       "price          149.99  \n",
       "amazon_price   184.99  \n",
       "pages          389.00  \n",
       "minifigures     15.00  \n",
       "unique_pieces  411.00  "
      ]
     },
     "execution_count": 6,
     "metadata": {},
     "output_type": "execute_result"
    }
   ],
   "source": [
    "# Insert code here\n",
    "df_describe = df_raw.describe().transpose()\n",
    "df_describe.drop(['item_number', 'year'])"
   ]
  },
  {
   "cell_type": "code",
   "execution_count": 7,
   "id": "795bd194-a35b-45fc-b96e-3485419faa54",
   "metadata": {},
   "outputs": [
    {
     "data": {
      "text/html": [
       "<div>\n",
       "<style scoped>\n",
       "    .dataframe tbody tr th:only-of-type {\n",
       "        vertical-align: middle;\n",
       "    }\n",
       "\n",
       "    .dataframe tbody tr th {\n",
       "        vertical-align: top;\n",
       "    }\n",
       "\n",
       "    .dataframe thead th {\n",
       "        text-align: right;\n",
       "    }\n",
       "</style>\n",
       "<table border=\"1\" class=\"dataframe\">\n",
       "  <thead>\n",
       "    <tr style=\"text-align: right;\">\n",
       "      <th></th>\n",
       "      <th>pieces</th>\n",
       "      <th>price</th>\n",
       "      <th>amazon_price</th>\n",
       "      <th>year</th>\n",
       "      <th>pages</th>\n",
       "      <th>minifigures</th>\n",
       "      <th>unique_pieces</th>\n",
       "    </tr>\n",
       "  </thead>\n",
       "  <tbody>\n",
       "    <tr>\n",
       "      <th>pieces</th>\n",
       "      <td>1.000000</td>\n",
       "      <td>0.749565</td>\n",
       "      <td>0.668246</td>\n",
       "      <td>0.142958</td>\n",
       "      <td>0.903556</td>\n",
       "      <td>0.425296</td>\n",
       "      <td>0.986229</td>\n",
       "    </tr>\n",
       "    <tr>\n",
       "      <th>price</th>\n",
       "      <td>0.749565</td>\n",
       "      <td>1.000000</td>\n",
       "      <td>0.822550</td>\n",
       "      <td>0.143340</td>\n",
       "      <td>0.752171</td>\n",
       "      <td>0.537351</td>\n",
       "      <td>0.739618</td>\n",
       "    </tr>\n",
       "    <tr>\n",
       "      <th>amazon_price</th>\n",
       "      <td>0.668246</td>\n",
       "      <td>0.822550</td>\n",
       "      <td>1.000000</td>\n",
       "      <td>-0.175572</td>\n",
       "      <td>0.615498</td>\n",
       "      <td>0.471528</td>\n",
       "      <td>0.664319</td>\n",
       "    </tr>\n",
       "    <tr>\n",
       "      <th>year</th>\n",
       "      <td>0.142958</td>\n",
       "      <td>0.143340</td>\n",
       "      <td>-0.175572</td>\n",
       "      <td>1.000000</td>\n",
       "      <td>0.228478</td>\n",
       "      <td>-0.050212</td>\n",
       "      <td>0.140191</td>\n",
       "    </tr>\n",
       "    <tr>\n",
       "      <th>pages</th>\n",
       "      <td>0.903556</td>\n",
       "      <td>0.752171</td>\n",
       "      <td>0.615498</td>\n",
       "      <td>0.228478</td>\n",
       "      <td>1.000000</td>\n",
       "      <td>0.482441</td>\n",
       "      <td>0.916411</td>\n",
       "    </tr>\n",
       "    <tr>\n",
       "      <th>minifigures</th>\n",
       "      <td>0.425296</td>\n",
       "      <td>0.537351</td>\n",
       "      <td>0.471528</td>\n",
       "      <td>-0.050212</td>\n",
       "      <td>0.482441</td>\n",
       "      <td>1.000000</td>\n",
       "      <td>0.478426</td>\n",
       "    </tr>\n",
       "    <tr>\n",
       "      <th>unique_pieces</th>\n",
       "      <td>0.986229</td>\n",
       "      <td>0.739618</td>\n",
       "      <td>0.664319</td>\n",
       "      <td>0.140191</td>\n",
       "      <td>0.916411</td>\n",
       "      <td>0.478426</td>\n",
       "      <td>1.000000</td>\n",
       "    </tr>\n",
       "  </tbody>\n",
       "</table>\n",
       "</div>"
      ],
      "text/plain": [
       "                 pieces     price  amazon_price      year     pages  \\\n",
       "pieces         1.000000  0.749565      0.668246  0.142958  0.903556   \n",
       "price          0.749565  1.000000      0.822550  0.143340  0.752171   \n",
       "amazon_price   0.668246  0.822550      1.000000 -0.175572  0.615498   \n",
       "year           0.142958  0.143340     -0.175572  1.000000  0.228478   \n",
       "pages          0.903556  0.752171      0.615498  0.228478  1.000000   \n",
       "minifigures    0.425296  0.537351      0.471528 -0.050212  0.482441   \n",
       "unique_pieces  0.986229  0.739618      0.664319  0.140191  0.916411   \n",
       "\n",
       "               minifigures  unique_pieces  \n",
       "pieces            0.425296       0.986229  \n",
       "price             0.537351       0.739618  \n",
       "amazon_price      0.471528       0.664319  \n",
       "year             -0.050212       0.140191  \n",
       "pages             0.482441       0.916411  \n",
       "minifigures       1.000000       0.478426  \n",
       "unique_pieces     0.478426       1.000000  "
      ]
     },
     "execution_count": 7,
     "metadata": {},
     "output_type": "execute_result"
    }
   ],
   "source": [
    "# Insert code here\n",
    "columns = ['pieces','price','amazon_price','year','pages','minifigures','unique_pieces']\n",
    "df_corr = df_raw[columns].corr()\n",
    "df_corr"
   ]
  },
  {
   "cell_type": "code",
   "execution_count": 8,
   "id": "72a211fc-3e1c-49d9-8053-c2fde9bdd3ea",
   "metadata": {
    "scrolled": true
   },
   "outputs": [
    {
     "data": {
      "text/html": [
       "<div>\n",
       "<style scoped>\n",
       "    .dataframe tbody tr th:only-of-type {\n",
       "        vertical-align: middle;\n",
       "    }\n",
       "\n",
       "    .dataframe tbody tr th {\n",
       "        vertical-align: top;\n",
       "    }\n",
       "\n",
       "    .dataframe thead th {\n",
       "        text-align: right;\n",
       "    }\n",
       "</style>\n",
       "<table border=\"1\" class=\"dataframe\">\n",
       "  <thead>\n",
       "    <tr style=\"text-align: right;\">\n",
       "      <th>ages</th>\n",
       "      <th>Ages_1½+</th>\n",
       "      <th>Ages_1½-3</th>\n",
       "      <th>Ages_2+</th>\n",
       "      <th>Ages_2-5</th>\n",
       "      <th>Ages_4+</th>\n",
       "      <th>Ages_5+</th>\n",
       "      <th>Ages_5-12</th>\n",
       "      <th>Ages_6+</th>\n",
       "      <th>Ages_6-12</th>\n",
       "      <th>Ages_7+</th>\n",
       "      <th>Ages_8+</th>\n",
       "    </tr>\n",
       "  </thead>\n",
       "  <tbody>\n",
       "    <tr>\n",
       "      <th>average_pieces</th>\n",
       "      <td>23.0000</td>\n",
       "      <td>17.666667</td>\n",
       "      <td>37.800000</td>\n",
       "      <td>42.750000</td>\n",
       "      <td>91.50</td>\n",
       "      <td>205.384615</td>\n",
       "      <td>188.857143</td>\n",
       "      <td>304.2000</td>\n",
       "      <td>383.000</td>\n",
       "      <td>523.50</td>\n",
       "      <td>648.00</td>\n",
       "    </tr>\n",
       "    <tr>\n",
       "      <th>average_price</th>\n",
       "      <td>17.9900</td>\n",
       "      <td>8.323333</td>\n",
       "      <td>26.990000</td>\n",
       "      <td>38.115000</td>\n",
       "      <td>14.99</td>\n",
       "      <td>30.759231</td>\n",
       "      <td>23.847143</td>\n",
       "      <td>35.3400</td>\n",
       "      <td>32.990</td>\n",
       "      <td>94.99</td>\n",
       "      <td>79.99</td>\n",
       "    </tr>\n",
       "    <tr>\n",
       "      <th>average_amazon_price</th>\n",
       "      <td>15.9575</td>\n",
       "      <td>21.780000</td>\n",
       "      <td>28.130000</td>\n",
       "      <td>55.761250</td>\n",
       "      <td>12.49</td>\n",
       "      <td>28.595385</td>\n",
       "      <td>48.578571</td>\n",
       "      <td>36.6045</td>\n",
       "      <td>71.844</td>\n",
       "      <td>94.97</td>\n",
       "      <td>79.95</td>\n",
       "    </tr>\n",
       "    <tr>\n",
       "      <th>average_pages</th>\n",
       "      <td>5.7500</td>\n",
       "      <td>9.000000</td>\n",
       "      <td>21.000000</td>\n",
       "      <td>23.625000</td>\n",
       "      <td>62.00</td>\n",
       "      <td>99.076923</td>\n",
       "      <td>76.571429</td>\n",
       "      <td>107.6500</td>\n",
       "      <td>84.000</td>\n",
       "      <td>172.50</td>\n",
       "      <td>176.00</td>\n",
       "    </tr>\n",
       "    <tr>\n",
       "      <th>average_minifigures</th>\n",
       "      <td>2.0000</td>\n",
       "      <td>NaN</td>\n",
       "      <td>2.111111</td>\n",
       "      <td>2.166667</td>\n",
       "      <td>1.50</td>\n",
       "      <td>2.615385</td>\n",
       "      <td>4.714286</td>\n",
       "      <td>2.3000</td>\n",
       "      <td>1.750</td>\n",
       "      <td>5.00</td>\n",
       "      <td>3.00</td>\n",
       "    </tr>\n",
       "    <tr>\n",
       "      <th>average_unique_pieces</th>\n",
       "      <td>22.0000</td>\n",
       "      <td>9.666667</td>\n",
       "      <td>24.500000</td>\n",
       "      <td>27.750000</td>\n",
       "      <td>61.00</td>\n",
       "      <td>108.076923</td>\n",
       "      <td>110.000000</td>\n",
       "      <td>140.6500</td>\n",
       "      <td>169.200</td>\n",
       "      <td>229.50</td>\n",
       "      <td>251.00</td>\n",
       "    </tr>\n",
       "  </tbody>\n",
       "</table>\n",
       "</div>"
      ],
      "text/plain": [
       "ages                   Ages_1½+  Ages_1½-3    Ages_2+   Ages_2-5  Ages_4+  \\\n",
       "average_pieces          23.0000  17.666667  37.800000  42.750000    91.50   \n",
       "average_price           17.9900   8.323333  26.990000  38.115000    14.99   \n",
       "average_amazon_price    15.9575  21.780000  28.130000  55.761250    12.49   \n",
       "average_pages            5.7500   9.000000  21.000000  23.625000    62.00   \n",
       "average_minifigures      2.0000        NaN   2.111111   2.166667     1.50   \n",
       "average_unique_pieces   22.0000   9.666667  24.500000  27.750000    61.00   \n",
       "\n",
       "ages                      Ages_5+   Ages_5-12   Ages_6+  Ages_6-12  Ages_7+  \\\n",
       "average_pieces         205.384615  188.857143  304.2000    383.000   523.50   \n",
       "average_price           30.759231   23.847143   35.3400     32.990    94.99   \n",
       "average_amazon_price    28.595385   48.578571   36.6045     71.844    94.97   \n",
       "average_pages           99.076923   76.571429  107.6500     84.000   172.50   \n",
       "average_minifigures      2.615385    4.714286    2.3000      1.750     5.00   \n",
       "average_unique_pieces  108.076923  110.000000  140.6500    169.200   229.50   \n",
       "\n",
       "ages                   Ages_8+  \n",
       "average_pieces          648.00  \n",
       "average_price            79.99  \n",
       "average_amazon_price     79.95  \n",
       "average_pages           176.00  \n",
       "average_minifigures       3.00  \n",
       "average_unique_pieces   251.00  "
      ]
     },
     "execution_count": 8,
     "metadata": {},
     "output_type": "execute_result"
    }
   ],
   "source": [
    "df_group = df_raw[['pieces','price','amazon_price','pages','minifigures','unique_pieces','ages']].groupby('ages', as_index = False).mean()\n",
    "df_group.rename(columns = {'pieces':'average_pieces', 'price':'average_price', 'amazon_price':'average_amazon_price', 'pages':'average_pages','minifigures':'average_minifigures','unique_pieces':'average_unique_pieces'}, inplace = True)\n",
    "df_group.set_index('ages').transpose()"
   ]
  },
  {
   "cell_type": "code",
   "execution_count": 9,
   "id": "8dd9a03d-6ad0-48b4-a8fb-6b6d668a2fa1",
   "metadata": {},
   "outputs": [
    {
     "data": {
      "image/png": "[encoded data removed]",
      "text/plain": [
       "<Figure size 640x480 with 1 Axes>"
      ]
     },
     "metadata": {},
     "output_type": "display_data"
    }
   ],
   "source": [
    "ages_average_price_bar = df_group.plot(kind = 'bar',\n",
    "              x = 'ages',\n",
    "              y = 'average_price')\n",
    "\n",
    "plt.xlabel('Ages')\n",
    "plt.ylabel('Average Price')\n",
    "plt.title('Average Price of Lego Sets per Age Group')\n",
    "plt.legend().remove()\n",
    "\n",
    "plt.show()"
   ]
  },
  {
   "cell_type": "markdown",
   "id": "25cbbf2f-125a-41fd-b9a9-6dfb75144e6d",
   "metadata": {},
   "source": [
    "#### df_describe\n",
    "For this first portion where we capture a general statistical understanding of the variables, we find some Lego sets did not include minifigs and that there is a difference between the average price and average amazon price.\n",
    "#### df_corr\n",
    "In this second section where we generate a correlation matrix, amongst 'pieces', 'unique_pieces', 'price', 'amazon_price', and 'pages', they exhibit relatively strong correlations over the rest of the variables. This warrants further relationship analysis. \n",
    "#### df_group\n",
    "In this third section where we group the average of several quantitative variables by ages, we can find how different variables change as ages change.\n",
    "#### ages_average_price_bar\n",
    "In this last section, building off of the previously grouped dataframe, we plot the progression of average price as ages increase, and we see there is a relatively positive relationship. "
   ]
  },
  {
   "cell_type": "markdown",
   "id": "c94ded95-0f65-4cfc-ac98-2cb5b240a775",
   "metadata": {
    "jp-MarkdownHeadingCollapsed": true
   },
   "source": [
    "### Problem 2 (15 Points)"
   ]
  },
  {
   "cell_type": "markdown",
   "id": "a04e3731-b198-4c46-82f7-c86336fa2ccc",
   "metadata": {},
   "source": [
    "#### (a) Display (or show) the data frame with only the columns that contain useful categorical information. If you left any columns out say why."
   ]
  },
  {
   "cell_type": "code",
   "execution_count": 10,
   "id": "244e5380-4655-45dd-9124-4026288f10ec",
   "metadata": {},
   "outputs": [
    {
     "data": {
      "text/html": [
       "<div>\n",
       "<style scoped>\n",
       "    .dataframe tbody tr th:only-of-type {\n",
       "        vertical-align: middle;\n",
       "    }\n",
       "\n",
       "    .dataframe tbody tr th {\n",
       "        vertical-align: top;\n",
       "    }\n",
       "\n",
       "    .dataframe thead th {\n",
       "        text-align: right;\n",
       "    }\n",
       "</style>\n",
       "<table border=\"1\" class=\"dataframe\">\n",
       "  <thead>\n",
       "    <tr style=\"text-align: right;\">\n",
       "      <th></th>\n",
       "      <th>set_name</th>\n",
       "      <th>theme</th>\n",
       "      <th>ages</th>\n",
       "      <th>packaging</th>\n",
       "      <th>weight</th>\n",
       "      <th>size</th>\n",
       "    </tr>\n",
       "  </thead>\n",
       "  <tbody>\n",
       "    <tr>\n",
       "      <th>0</th>\n",
       "      <td>My First Ladybird</td>\n",
       "      <td>DUPLO®</td>\n",
       "      <td>Ages_1½-3</td>\n",
       "      <td>Box</td>\n",
       "      <td>NaN</td>\n",
       "      <td>Large</td>\n",
       "    </tr>\n",
       "    <tr>\n",
       "      <th>1</th>\n",
       "      <td>My First Race Car</td>\n",
       "      <td>DUPLO®</td>\n",
       "      <td>Ages_1½-3</td>\n",
       "      <td>Box</td>\n",
       "      <td>0.13Kg (0.29 lb)</td>\n",
       "      <td>Large</td>\n",
       "    </tr>\n",
       "    <tr>\n",
       "      <th>2</th>\n",
       "      <td>My First Celebration</td>\n",
       "      <td>DUPLO®</td>\n",
       "      <td>Ages_1½-3</td>\n",
       "      <td>Box</td>\n",
       "      <td>NaN</td>\n",
       "      <td>Large</td>\n",
       "    </tr>\n",
       "    <tr>\n",
       "      <th>3</th>\n",
       "      <td>Large Playground Brick Box</td>\n",
       "      <td>DUPLO®</td>\n",
       "      <td>Ages_2-5</td>\n",
       "      <td>Plastic box</td>\n",
       "      <td>1.41Kg (3.11 lb)</td>\n",
       "      <td>Large</td>\n",
       "    </tr>\n",
       "    <tr>\n",
       "      <th>4</th>\n",
       "      <td>Farmers' Market</td>\n",
       "      <td>DUPLO®</td>\n",
       "      <td>Ages_2-5</td>\n",
       "      <td>Box</td>\n",
       "      <td>NaN</td>\n",
       "      <td>Large</td>\n",
       "    </tr>\n",
       "  </tbody>\n",
       "</table>\n",
       "</div>"
      ],
      "text/plain": [
       "                     set_name   theme       ages    packaging  \\\n",
       "0           My First Ladybird  DUPLO®  Ages_1½-3          Box   \n",
       "1           My First Race Car  DUPLO®  Ages_1½-3          Box   \n",
       "2        My First Celebration  DUPLO®  Ages_1½-3          Box   \n",
       "3  Large Playground Brick Box  DUPLO®   Ages_2-5  Plastic box   \n",
       "4             Farmers' Market  DUPLO®   Ages_2-5          Box   \n",
       "\n",
       "             weight   size  \n",
       "0               NaN  Large  \n",
       "1  0.13Kg (0.29 lb)  Large  \n",
       "2               NaN  Large  \n",
       "3  1.41Kg (3.11 lb)  Large  \n",
       "4               NaN  Large  "
      ]
     },
     "execution_count": 10,
     "metadata": {},
     "output_type": "execute_result"
    }
   ],
   "source": [
    "# Insert code here\n",
    "df_cats = df_raw.select_dtypes(['object'])\n",
    "df_cats.head()"
   ]
  },
  {
   "cell_type": "markdown",
   "id": "f108faf6-34b9-4354-8842-f8584eedad98",
   "metadata": {},
   "source": [
    "#### (b) For each categorical column that you chose above, find the frequencies of the categories. Talk about what you learn from the results of each calculation (1-2 sentences is fine)"
   ]
  },
  {
   "cell_type": "markdown",
   "id": "3b300054-0fee-429d-9818-2a95ddc67c17",
   "metadata": {},
   "source": [
    "The only column I removed was 'set_name' most of the values were indivdual and it didn't make sense to count each one of them."
   ]
  },
  {
   "cell_type": "code",
   "execution_count": 11,
   "id": "c63b73d9-ce79-4299-bd6d-c3c8441eacdf",
   "metadata": {},
   "outputs": [
    {
     "data": {
      "text/plain": [
       "theme\n",
       "DUPLO®     25\n",
       "Friends    25\n",
       "City       25\n",
       "Name: count, dtype: int64"
      ]
     },
     "metadata": {},
     "output_type": "display_data"
    },
    {
     "name": "stdout",
     "output_type": "stream",
     "text": [
      "\n"
     ]
    },
    {
     "data": {
      "text/plain": [
       "ages\n",
       "Ages_6+      20\n",
       "Ages_5+      13\n",
       "Ages_2+      10\n",
       "Ages_2-5      8\n",
       "Ages_5-12     7\n",
       "Ages_6-12     5\n",
       "Ages_1½+      4\n",
       "Ages_1½-3     3\n",
       "Ages_4+       2\n",
       "Ages_7+       2\n",
       "Ages_8+       1\n",
       "Name: count, dtype: int64"
      ]
     },
     "metadata": {},
     "output_type": "display_data"
    },
    {
     "name": "stdout",
     "output_type": "stream",
     "text": [
      "\n"
     ]
    },
    {
     "data": {
      "text/plain": [
       "packaging\n",
       "Box                      64\n",
       "Other                     2\n",
       "Plastic box               1\n",
       "Box with backing card     1\n",
       "Name: count, dtype: int64"
      ]
     },
     "metadata": {},
     "output_type": "display_data"
    },
    {
     "name": "stdout",
     "output_type": "stream",
     "text": [
      "\n"
     ]
    },
    {
     "data": {
      "text/plain": [
       "weight\n",
       "0.13Kg (0.29 lb)    3\n",
       "0.14Kg (0.31 lb)    3\n",
       "0.61Kg (1.34 lb)    2\n",
       "0.59Kg (1.3 lb)     2\n",
       "0.65Kg (1.43 lb)    2\n",
       "0.66Kg (1.45 lb)    1\n",
       "0.25Kg (0.54 lb)    1\n",
       "2.28Kg (5.03 lb)    1\n",
       "1.63Kg (3.58 lb)    1\n",
       "0.35Kg (0.78 lb)    1\n",
       "0.25Kg (0.55 lb)    1\n",
       "1.85Kg (4.06 lb)    1\n",
       "0.85Kg (1.87 lb)    1\n",
       "0.52Kg (1.16 lb)    1\n",
       "0.34Kg (0.74 lb)    1\n",
       "0.16Kg (0.34 lb)    1\n",
       "0.76Kg (1.68 lb)    1\n",
       "1.17Kg (2.57 lb)    1\n",
       "0.48Kg (1.05 lb)    1\n",
       "0.64Kg (1.41 lb)    1\n",
       "0.29Kg (0.64 lb)    1\n",
       "1.41Kg (3.11 lb)    1\n",
       "0.6Kg (1.32 lb)     1\n",
       "1.12Kg (2.47 lb)    1\n",
       "0.88Kg (1.95 lb)    1\n",
       "0.15Kg (0.33 lb)    1\n",
       "2.86Kg (6.31 lb)    1\n",
       "1.14Kg (2.51 lb)    1\n",
       "0.54Kg (1.19 lb)    1\n",
       "0.32Kg (0.7 lb)     1\n",
       "0.45Kg (0.99 lb)    1\n",
       "0.34Kg (0.76 lb)    1\n",
       "Name: count, dtype: int64"
      ]
     },
     "metadata": {},
     "output_type": "display_data"
    },
    {
     "name": "stdout",
     "output_type": "stream",
     "text": [
      "\n"
     ]
    },
    {
     "data": {
      "text/plain": [
       "size\n",
       "Small    50\n",
       "Large    25\n",
       "Name: count, dtype: int64"
      ]
     },
     "metadata": {},
     "output_type": "display_data"
    },
    {
     "name": "stdout",
     "output_type": "stream",
     "text": [
      "\n"
     ]
    }
   ],
   "source": [
    "# Insert code here\n",
    "cat_columns = df_raw.select_dtypes(['object']).columns.to_list()\n",
    "cat_columns.remove('set_name')\n",
    "cat_columns\n",
    "\n",
    "for col in cat_columns:\n",
    "    display(df_cats[col].value_counts())\n",
    "    print('')"
   ]
  },
  {
   "cell_type": "markdown",
   "id": "a8e57342-b46c-4e93-a98a-cb50b10ff72b",
   "metadata": {
    "jp-MarkdownHeadingCollapsed": true
   },
   "source": [
    "### Problem 3 (15 Points)"
   ]
  },
  {
   "cell_type": "markdown",
   "id": "490fc8c7-7f7a-44d9-843e-e6a9f2a9eb28",
   "metadata": {},
   "source": [
    "#### (a) Make a scatter plot of the number of pieces vs the price. Color the data by the lego theme and add the set name as your hover_data."
   ]
  },
  {
   "cell_type": "code",
   "execution_count": 12,
   "id": "b5a2c29a-f59f-45ae-97f4-5440ea4dfbe3",
   "metadata": {},
   "outputs": [],
   "source": [
    "# Insert code here\n",
    "df_q3 = df_raw[['price','pieces','theme']]\n",
    "\n",
    "mask1 = (df_q3['theme'] == 'DUPLO®')\n",
    "mask2 = (df_q3['theme'] == 'Friends')\n",
    "mask3 = (df_q3['theme'] == 'City')\n",
    "\n",
    "df_DUPLO = df_q3[mask1]\n",
    "df_Friends = df_q3[mask2]\n",
    "df_City = df_q3[mask3]"
   ]
  },
  {
   "cell_type": "code",
   "execution_count": 13,
   "id": "8f6dd590-13fa-420c-954a-e63d1976027e",
   "metadata": {},
   "outputs": [
    {
     "data": {
      "image/png": "[encoded data removed]",
      "text/plain": [
       "<Figure size 640x480 with 1 Axes>"
      ]
     },
     "metadata": {},
     "output_type": "display_data"
    }
   ],
   "source": [
    "plt.scatter(x = df_DUPLO['price'], y = df_DUPLO['pieces'], c = 'b', label = 'DUPLO®')\n",
    "plt.scatter(x = df_Friends['price'], y = df_Friends['pieces'], c = 'r', label = 'Friends')\n",
    "plt.scatter(x = df_City['price'], y = df_City['pieces'], c = 'g', label = 'City')\n",
    "\n",
    "plt.xlabel('Price (USD)')\n",
    "plt.ylabel('Pieces')\n",
    "plt.title('Prices vs Pieces For Different Lego Brands')\n",
    "\n",
    "plt.legend(loc = 'upper left')\n",
    "plt.show()"
   ]
  },
  {
   "cell_type": "markdown",
   "id": "bc946f65-3b42-4c49-b496-665974f832be",
   "metadata": {},
   "source": [
    "#### (b) Answer the three questions by describing what you see in the graph. Comment on any points that look like outliers."
   ]
  },
  {
   "cell_type": "code",
   "execution_count": 14,
   "id": "f9ecd93c-d322-4c78-8648-5c80613f6912",
   "metadata": {},
   "outputs": [
    {
     "name": "stdout",
     "output_type": "stream",
     "text": [
      "Median: 19.99\n",
      "There are 5 outliers for the DUPLO sets.\n"
     ]
    },
    {
     "data": {
      "text/plain": [
       "0     49.99\n",
       "1    119.99\n",
       "2     59.99\n",
       "3     34.99\n",
       "4     59.99\n",
       "Name: price, dtype: float64"
      ]
     },
     "metadata": {},
     "output_type": "display_data"
    },
    {
     "name": "stdout",
     "output_type": "stream",
     "text": [
      "\n",
      "Median: 19.99\n",
      "There are 6 outliers for the Friends sets.\n"
     ]
    },
    {
     "data": {
      "text/plain": [
       "0    69.99\n",
       "1    69.99\n",
       "2    49.99\n",
       "3    49.99\n",
       "4    79.99\n",
       "5    49.99\n",
       "Name: price, dtype: float64"
      ]
     },
     "metadata": {},
     "output_type": "display_data"
    },
    {
     "name": "stdout",
     "output_type": "stream",
     "text": [
      "\n",
      "Median: 29.99\n",
      "There are 11 outliers for the City sets.\n"
     ]
    },
    {
     "data": {
      "text/plain": [
       "0      39.99\n",
       "1      39.99\n",
       "2      39.99\n",
       "3      69.99\n",
       "4      59.99\n",
       "5      39.99\n",
       "6      39.99\n",
       "7      59.99\n",
       "8      99.99\n",
       "9      99.99\n",
       "10    149.99\n",
       "Name: price, dtype: float64"
      ]
     },
     "metadata": {},
     "output_type": "display_data"
    },
    {
     "name": "stdout",
     "output_type": "stream",
     "text": [
      "\n"
     ]
    }
   ],
   "source": [
    "# Insert code here\n",
    "df_lst = [df_DUPLO, df_Friends, df_City]\n",
    "names = ['DUPLO', 'Friends', 'City']\n",
    "\n",
    "for df, name in zip(df_lst, names):\n",
    "    df_quantiles = df['price'].quantile([0.25, 0.5, 0.75])\n",
    "    \n",
    "    lower = df_quantiles.iloc[0]\n",
    "    median = df_quantiles.iloc[1]\n",
    "    upper = df_quantiles.iloc[2]\n",
    "    IQR = (upper - lower) * 1.5\n",
    "\n",
    "    df_outliers = df[df['price'] > IQR]\n",
    "    print('Median:', median)\n",
    "    print('There are', df_outliers['price'].count(), 'outliers for the',name,'sets.')\n",
    "    display(df_outliers['price'].reset_index(drop = True))\n",
    "    print('')"
   ]
  },
  {
   "cell_type": "markdown",
   "id": "142c9406-3eba-4378-90c8-e6da0f97fcf8",
   "metadata": {},
   "source": [
    "##### We see that the City sets have the most outliers as well as the highest outlier of $149.99, where we measure an outlier using the IQR method. "
   ]
  },
  {
   "cell_type": "markdown",
   "id": "b4a5fb30-7b11-4591-8cd7-93ebe2c7de1b",
   "metadata": {
    "jp-MarkdownHeadingCollapsed": true
   },
   "source": [
    "### Problem 4 (15 points)"
   ]
  },
  {
   "cell_type": "markdown",
   "id": "0f051ac6-4072-4922-a131-8a47c671432e",
   "metadata": {},
   "source": [
    "#### (a) Create a new column in the data frame that measures the price difference between Amazon and Retail."
   ]
  },
  {
   "cell_type": "code",
   "execution_count": 15,
   "id": "3cf6d3ef-f859-4208-b411-5fffc1a16ee3",
   "metadata": {},
   "outputs": [
    {
     "data": {
      "text/html": [
       "<div>\n",
       "<style scoped>\n",
       "    .dataframe tbody tr th:only-of-type {\n",
       "        vertical-align: middle;\n",
       "    }\n",
       "\n",
       "    .dataframe tbody tr th {\n",
       "        vertical-align: top;\n",
       "    }\n",
       "\n",
       "    .dataframe thead th {\n",
       "        text-align: right;\n",
       "    }\n",
       "</style>\n",
       "<table border=\"1\" class=\"dataframe\">\n",
       "  <thead>\n",
       "    <tr style=\"text-align: right;\">\n",
       "      <th></th>\n",
       "      <th>amazon_price</th>\n",
       "      <th>price</th>\n",
       "      <th>price_difference</th>\n",
       "    </tr>\n",
       "  </thead>\n",
       "  <tbody>\n",
       "    <tr>\n",
       "      <th>0</th>\n",
       "      <td>16.00</td>\n",
       "      <td>4.99</td>\n",
       "      <td>11.01</td>\n",
       "    </tr>\n",
       "    <tr>\n",
       "      <th>1</th>\n",
       "      <td>9.45</td>\n",
       "      <td>4.99</td>\n",
       "      <td>4.46</td>\n",
       "    </tr>\n",
       "    <tr>\n",
       "      <th>2</th>\n",
       "      <td>39.89</td>\n",
       "      <td>14.99</td>\n",
       "      <td>24.90</td>\n",
       "    </tr>\n",
       "    <tr>\n",
       "      <th>3</th>\n",
       "      <td>56.69</td>\n",
       "      <td>49.99</td>\n",
       "      <td>6.70</td>\n",
       "    </tr>\n",
       "    <tr>\n",
       "      <th>4</th>\n",
       "      <td>36.99</td>\n",
       "      <td>19.99</td>\n",
       "      <td>17.00</td>\n",
       "    </tr>\n",
       "  </tbody>\n",
       "</table>\n",
       "</div>"
      ],
      "text/plain": [
       "   amazon_price  price  price_difference\n",
       "0         16.00   4.99             11.01\n",
       "1          9.45   4.99              4.46\n",
       "2         39.89  14.99             24.90\n",
       "3         56.69  49.99              6.70\n",
       "4         36.99  19.99             17.00"
      ]
     },
     "execution_count": 15,
     "metadata": {},
     "output_type": "execute_result"
    }
   ],
   "source": [
    "# Insert code here\n",
    "df_raw['price_difference'] = df_raw['amazon_price'] - df_raw['price']\n",
    "df_raw[['amazon_price','price','price_difference']].head()"
   ]
  },
  {
   "cell_type": "markdown",
   "id": "668a6430-6d4c-4265-81c4-85f0aa5d31d2",
   "metadata": {},
   "source": [
    "#### (b) Group the data by Lego Theme and use describe to do statistics on the price difference column you created in part (a). Comment on at least four things that you learned by looking at these statistics."
   ]
  },
  {
   "cell_type": "code",
   "execution_count": 16,
   "id": "39101b38-7fc9-4877-a339-7cf51eab687c",
   "metadata": {},
   "outputs": [
    {
     "data": {
      "text/html": [
       "<div>\n",
       "<style scoped>\n",
       "    .dataframe tbody tr th:only-of-type {\n",
       "        vertical-align: middle;\n",
       "    }\n",
       "\n",
       "    .dataframe tbody tr th {\n",
       "        vertical-align: top;\n",
       "    }\n",
       "\n",
       "    .dataframe thead th {\n",
       "        text-align: right;\n",
       "    }\n",
       "</style>\n",
       "<table border=\"1\" class=\"dataframe\">\n",
       "  <thead>\n",
       "    <tr style=\"text-align: right;\">\n",
       "      <th></th>\n",
       "      <th>Average Price Difference</th>\n",
       "    </tr>\n",
       "    <tr>\n",
       "      <th>Theme</th>\n",
       "      <th></th>\n",
       "    </tr>\n",
       "  </thead>\n",
       "  <tbody>\n",
       "    <tr>\n",
       "      <th>Friends</th>\n",
       "      <td>8.98</td>\n",
       "    </tr>\n",
       "    <tr>\n",
       "      <th>DUPLO®</th>\n",
       "      <td>7.39</td>\n",
       "    </tr>\n",
       "    <tr>\n",
       "      <th>City</th>\n",
       "      <td>5.40</td>\n",
       "    </tr>\n",
       "  </tbody>\n",
       "</table>\n",
       "</div>"
      ],
      "text/plain": [
       "         Average Price Difference\n",
       "Theme                            \n",
       "Friends                      8.98\n",
       "DUPLO®                       7.39\n",
       "City                         5.40"
      ]
     },
     "execution_count": 16,
     "metadata": {},
     "output_type": "execute_result"
    }
   ],
   "source": [
    "# Insert code here\n",
    "df_q4 = df_raw[['theme','amazon_price','price','price_difference']].groupby('theme').mean()\n",
    "df_q4 = df_q4['price_difference'].round(2)\n",
    "df_q4.index.name = 'Theme'\n",
    "pd.DataFrame(df_q4).sort_values('price_difference', ascending = False).rename(columns = {'price_difference':'Average Price Difference'})"
   ]
  },
  {
   "cell_type": "markdown",
   "id": "f2fb7d2f-31d0-4aa8-b4e0-6017d2378817",
   "metadata": {},
   "source": [
    "The most insightful statistic is the mean for the difference in price. Above we have the average price difference between each of the three themes. We can see in descending order that Friends has the highest, followed by DUPLO and City. "
   ]
  },
  {
   "cell_type": "markdown",
   "id": "490ab4d9-76f1-4212-8486-ccfe6f5ef6f0",
   "metadata": {},
   "source": [
    "#### (c) Make a histogram of the price difference and color the bars by the Lego Theme."
   ]
  },
  {
   "cell_type": "code",
   "execution_count": 67,
   "id": "7e28152f-f5b6-44b3-acd8-090dc363be3c",
   "metadata": {},
   "outputs": [
    {
     "data": {
      "application/vnd.plotly.v1+json": {
       "config": {
        "plotlyServerURL": "https://plot.ly"
       },
       "data": [
        {
         "alignmentgroup": "True",
         "bingroup": "x",
         "hovertemplate": "theme=DUPLO®<br>price_difference=%{x}<br>count=%{y}<extra></extra>",
         "legendgroup": "DUPLO®",
         "marker": {
          "color": "blue",
          "opacity": 0.5,
          "pattern": {
           "shape": ""
          }
         },
         "name": "DUPLO®",
         "nbinsx": 10,
         "offsetgroup": "DUPLO®",
         "orientation": "v",
         "showlegend": true,
         "type": "histogram",
         "x": [
          11.01,
          4.459999999999999,
          24.9,
          6.699999999999996,
          17.000000000000004,
          0,
          -3,
          8.959999999999994,
          44.510000000000005,
          69,
          -2,
          -0.4399999999999977,
          -3.9899999999999984,
          -2,
          11.12,
          0,
          13.28,
          -2,
          -3,
          -0.7000000000000002,
          -3,
          0,
          -1,
          -5.0000000000000036,
          0
         ],
         "xaxis": "x",
         "yaxis": "y"
        },
        {
         "alignmentgroup": "True",
         "bingroup": "x",
         "hovertemplate": "theme=Friends<br>price_difference=%{x}<br>count=%{y}<extra></extra>",
         "legendgroup": "Friends",
         "marker": {
          "color": "red",
          "opacity": 0.5,
          "pattern": {
           "shape": ""
          }
         },
         "name": "Friends",
         "nbinsx": 10,
         "offsetgroup": "Friends",
         "orientation": "v",
         "showlegend": true,
         "type": "histogram",
         "x": [
          25.409999999999997,
          25.960000000000004,
          23.890000000000004,
          115.00000000000001,
          4.010000000000002,
          7,
          10.65,
          3.959999999999999,
          -4,
          -6.999999999999993,
          -9.990000000000002,
          11.280000000000001,
          -8.32,
          7,
          0,
          -1.4600000000000009,
          -1,
          8.94,
          7.979999999999999,
          5.33,
          0,
          -0.03999999999999915,
          -0.03999999999999204,
          -0.03999999999999915,
          -0.03999999999999915
         ],
         "xaxis": "x",
         "yaxis": "y"
        },
        {
         "alignmentgroup": "True",
         "bingroup": "x",
         "hovertemplate": "theme=City<br>price_difference=%{x}<br>count=%{y}<extra></extra>",
         "legendgroup": "City",
         "marker": {
          "color": "green",
          "opacity": 0.5,
          "pattern": {
           "shape": ""
          }
         },
         "name": "City",
         "nbinsx": 10,
         "offsetgroup": "City",
         "orientation": "v",
         "showlegend": true,
         "type": "histogram",
         "x": [
          23.9,
          6.499999999999998,
          24.759999999999998,
          36,
          39.96000000000001,
          11.999999999999998,
          29.999999999999993,
          -8.530000000000001,
          3.84,
          -13.989999999999995,
          -6,
          -1,
          -3.9899999999999984,
          24.81,
          -8.000000000000004,
          -4.010000000000005,
          -7.25,
          0,
          -6.009999999999998,
          -1,
          -1,
          -3.9999999999999982,
          0,
          0,
          -2
         ],
         "xaxis": "x",
         "yaxis": "y"
        }
       ],
       "layout": {
        "autosize": false,
        "bargap": 0.1,
        "barmode": "relative",
        "height": 600,
        "legend": {
         "title": {
          "text": "Theme"
         },
         "tracegroupgap": 0
        },
        "margin": {
         "t": 60
        },
        "template": {
         "data": {
          "bar": [
           {
            "error_x": {
             "color": "#2a3f5f"
            },
            "error_y": {
             "color": "#2a3f5f"
            },
            "marker": {
             "line": {
              "color": "#E5ECF6",
              "width": 0.5
             },
             "pattern": {
              "fillmode": "overlay",
              "size": 10,
              "solidity": 0.2
             }
            },
            "type": "bar"
           }
          ],
          "barpolar": [
           {
            "marker": {
             "line": {
              "color": "#E5ECF6",
              "width": 0.5
             },
             "pattern": {
              "fillmode": "overlay",
              "size": 10,
              "solidity": 0.2
             }
            },
            "type": "barpolar"
           }
          ],
          "carpet": [
           {
            "aaxis": {
             "endlinecolor": "#2a3f5f",
             "gridcolor": "white",
             "linecolor": "white",
             "minorgridcolor": "white",
             "startlinecolor": "#2a3f5f"
            },
            "baxis": {
             "endlinecolor": "#2a3f5f",
             "gridcolor": "white",
             "linecolor": "white",
             "minorgridcolor": "white",
             "startlinecolor": "#2a3f5f"
            },
            "type": "carpet"
           }
          ],
          "choropleth": [
           {
            "colorbar": {
             "outlinewidth": 0,
             "ticks": ""
            },
            "type": "choropleth"
           }
          ],
          "contour": [
           {
            "colorbar": {
             "outlinewidth": 0,
             "ticks": ""
            },
            "colorscale": [
             [
              0,
              "#0d0887"
             ],
             [
              0.1111111111111111,
              "#46039f"
             ],
             [
              0.2222222222222222,
              "#7201a8"
             ],
             [
              0.3333333333333333,
              "#9c179e"
             ],
             [
              0.4444444444444444,
              "#bd3786"
             ],
             [
              0.5555555555555556,
              "#d8576b"
             ],
             [
              0.6666666666666666,
              "#ed7953"
             ],
             [
              0.7777777777777778,
              "#fb9f3a"
             ],
             [
              0.8888888888888888,
              "#fdca26"
             ],
             [
              1,
              "#f0f921"
             ]
            ],
            "type": "contour"
           }
          ],
          "contourcarpet": [
           {
            "colorbar": {
             "outlinewidth": 0,
             "ticks": ""
            },
            "type": "contourcarpet"
           }
          ],
          "heatmap": [
           {
            "colorbar": {
             "outlinewidth": 0,
             "ticks": ""
            },
            "colorscale": [
             [
              0,
              "#0d0887"
             ],
             [
              0.1111111111111111,
              "#46039f"
             ],
             [
              0.2222222222222222,
              "#7201a8"
             ],
             [
              0.3333333333333333,
              "#9c179e"
             ],
             [
              0.4444444444444444,
              "#bd3786"
             ],
             [
              0.5555555555555556,
              "#d8576b"
             ],
             [
              0.6666666666666666,
              "#ed7953"
             ],
             [
              0.7777777777777778,
              "#fb9f3a"
             ],
             [
              0.8888888888888888,
              "#fdca26"
             ],
             [
              1,
              "#f0f921"
             ]
            ],
            "type": "heatmap"
           }
          ],
          "heatmapgl": [
           {
            "colorbar": {
             "outlinewidth": 0,
             "ticks": ""
            },
            "colorscale": [
             [
              0,
              "#0d0887"
             ],
             [
              0.1111111111111111,
              "#46039f"
             ],
             [
              0.2222222222222222,
              "#7201a8"
             ],
             [
              0.3333333333333333,
              "#9c179e"
             ],
             [
              0.4444444444444444,
              "#bd3786"
             ],
             [
              0.5555555555555556,
              "#d8576b"
             ],
             [
              0.6666666666666666,
              "#ed7953"
             ],
             [
              0.7777777777777778,
              "#fb9f3a"
             ],
             [
              0.8888888888888888,
              "#fdca26"
             ],
             [
              1,
              "#f0f921"
             ]
            ],
            "type": "heatmapgl"
           }
          ],
          "histogram": [
           {
            "marker": {
             "pattern": {
              "fillmode": "overlay",
              "size": 10,
              "solidity": 0.2
             }
            },
            "type": "histogram"
           }
          ],
          "histogram2d": [
           {
            "colorbar": {
             "outlinewidth": 0,
             "ticks": ""
            },
            "colorscale": [
             [
              0,
              "#0d0887"
             ],
             [
              0.1111111111111111,
              "#46039f"
             ],
             [
              0.2222222222222222,
              "#7201a8"
             ],
             [
              0.3333333333333333,
              "#9c179e"
             ],
             [
              0.4444444444444444,
              "#bd3786"
             ],
             [
              0.5555555555555556,
              "#d8576b"
             ],
             [
              0.6666666666666666,
              "#ed7953"
             ],
             [
              0.7777777777777778,
              "#fb9f3a"
             ],
             [
              0.8888888888888888,
              "#fdca26"
             ],
             [
              1,
              "#f0f921"
             ]
            ],
            "type": "histogram2d"
           }
          ],
          "histogram2dcontour": [
           {
            "colorbar": {
             "outlinewidth": 0,
             "ticks": ""
            },
            "colorscale": [
             [
              0,
              "#0d0887"
             ],
             [
              0.1111111111111111,
              "#46039f"
             ],
             [
              0.2222222222222222,
              "#7201a8"
             ],
             [
              0.3333333333333333,
              "#9c179e"
             ],
             [
              0.4444444444444444,
              "#bd3786"
             ],
             [
              0.5555555555555556,
              "#d8576b"
             ],
             [
              0.6666666666666666,
              "#ed7953"
             ],
             [
              0.7777777777777778,
              "#fb9f3a"
             ],
             [
              0.8888888888888888,
              "#fdca26"
             ],
             [
              1,
              "#f0f921"
             ]
            ],
            "type": "histogram2dcontour"
           }
          ],
          "mesh3d": [
           {
            "colorbar": {
             "outlinewidth": 0,
             "ticks": ""
            },
            "type": "mesh3d"
           }
          ],
          "parcoords": [
           {
            "line": {
             "colorbar": {
              "outlinewidth": 0,
              "ticks": ""
             }
            },
            "type": "parcoords"
           }
          ],
          "pie": [
           {
            "automargin": true,
            "type": "pie"
           }
          ],
          "scatter": [
           {
            "fillpattern": {
             "fillmode": "overlay",
             "size": 10,
             "solidity": 0.2
            },
            "type": "scatter"
           }
          ],
          "scatter3d": [
           {
            "line": {
             "colorbar": {
              "outlinewidth": 0,
              "ticks": ""
             }
            },
            "marker": {
             "colorbar": {
              "outlinewidth": 0,
              "ticks": ""
             }
            },
            "type": "scatter3d"
           }
          ],
          "scattercarpet": [
           {
            "marker": {
             "colorbar": {
              "outlinewidth": 0,
              "ticks": ""
             }
            },
            "type": "scattercarpet"
           }
          ],
          "scattergeo": [
           {
            "marker": {
             "colorbar": {
              "outlinewidth": 0,
              "ticks": ""
             }
            },
            "type": "scattergeo"
           }
          ],
          "scattergl": [
           {
            "marker": {
             "colorbar": {
              "outlinewidth": 0,
              "ticks": ""
             }
            },
            "type": "scattergl"
           }
          ],
          "scattermapbox": [
           {
            "marker": {
             "colorbar": {
              "outlinewidth": 0,
              "ticks": ""
             }
            },
            "type": "scattermapbox"
           }
          ],
          "scatterpolar": [
           {
            "marker": {
             "colorbar": {
              "outlinewidth": 0,
              "ticks": ""
             }
            },
            "type": "scatterpolar"
           }
          ],
          "scatterpolargl": [
           {
            "marker": {
             "colorbar": {
              "outlinewidth": 0,
              "ticks": ""
             }
            },
            "type": "scatterpolargl"
           }
          ],
          "scatterternary": [
           {
            "marker": {
             "colorbar": {
              "outlinewidth": 0,
              "ticks": ""
             }
            },
            "type": "scatterternary"
           }
          ],
          "surface": [
           {
            "colorbar": {
             "outlinewidth": 0,
             "ticks": ""
            },
            "colorscale": [
             [
              0,
              "#0d0887"
             ],
             [
              0.1111111111111111,
              "#46039f"
             ],
             [
              0.2222222222222222,
              "#7201a8"
             ],
             [
              0.3333333333333333,
              "#9c179e"
             ],
             [
              0.4444444444444444,
              "#bd3786"
             ],
             [
              0.5555555555555556,
              "#d8576b"
             ],
             [
              0.6666666666666666,
              "#ed7953"
             ],
             [
              0.7777777777777778,
              "#fb9f3a"
             ],
             [
              0.8888888888888888,
              "#fdca26"
             ],
             [
              1,
              "#f0f921"
             ]
            ],
            "type": "surface"
           }
          ],
          "table": [
           {
            "cells": {
             "fill": {
              "color": "#EBF0F8"
             },
             "line": {
              "color": "white"
             }
            },
            "header": {
             "fill": {
              "color": "#C8D4E3"
             },
             "line": {
              "color": "white"
             }
            },
            "type": "table"
           }
          ]
         },
         "layout": {
          "annotationdefaults": {
           "arrowcolor": "#2a3f5f",
           "arrowhead": 0,
           "arrowwidth": 1
          },
          "autotypenumbers": "strict",
          "coloraxis": {
           "colorbar": {
            "outlinewidth": 0,
            "ticks": ""
           }
          },
          "colorscale": {
           "diverging": [
            [
             0,
             "#8e0152"
            ],
            [
             0.1,
             "#c51b7d"
            ],
            [
             0.2,
             "#de77ae"
            ],
            [
             0.3,
             "#f1b6da"
            ],
            [
             0.4,
             "#fde0ef"
            ],
            [
             0.5,
             "#f7f7f7"
            ],
            [
             0.6,
             "#e6f5d0"
            ],
            [
             0.7,
             "#b8e186"
            ],
            [
             0.8,
             "#7fbc41"
            ],
            [
             0.9,
             "#4d9221"
            ],
            [
             1,
             "#276419"
            ]
           ],
           "sequential": [
            [
             0,
             "#0d0887"
            ],
            [
             0.1111111111111111,
             "#46039f"
            ],
            [
             0.2222222222222222,
             "#7201a8"
            ],
            [
             0.3333333333333333,
             "#9c179e"
            ],
            [
             0.4444444444444444,
             "#bd3786"
            ],
            [
             0.5555555555555556,
             "#d8576b"
            ],
            [
             0.6666666666666666,
             "#ed7953"
            ],
            [
             0.7777777777777778,
             "#fb9f3a"
            ],
            [
             0.8888888888888888,
             "#fdca26"
            ],
            [
             1,
             "#f0f921"
            ]
           ],
           "sequentialminus": [
            [
             0,
             "#0d0887"
            ],
            [
             0.1111111111111111,
             "#46039f"
            ],
            [
             0.2222222222222222,
             "#7201a8"
            ],
            [
             0.3333333333333333,
             "#9c179e"
            ],
            [
             0.4444444444444444,
             "#bd3786"
            ],
            [
             0.5555555555555556,
             "#d8576b"
            ],
            [
             0.6666666666666666,
             "#ed7953"
            ],
            [
             0.7777777777777778,
             "#fb9f3a"
            ],
            [
             0.8888888888888888,
             "#fdca26"
            ],
            [
             1,
             "#f0f921"
            ]
           ]
          },
          "colorway": [
           "#636efa",
           "#EF553B",
           "#00cc96",
           "#ab63fa",
           "#FFA15A",
           "#19d3f3",
           "#FF6692",
           "#B6E880",
           "#FF97FF",
           "#FECB52"
          ],
          "font": {
           "color": "#2a3f5f"
          },
          "geo": {
           "bgcolor": "white",
           "lakecolor": "white",
           "landcolor": "#E5ECF6",
           "showlakes": true,
           "showland": true,
           "subunitcolor": "white"
          },
          "hoverlabel": {
           "align": "left"
          },
          "hovermode": "closest",
          "mapbox": {
           "style": "light"
          },
          "paper_bgcolor": "white",
          "plot_bgcolor": "#E5ECF6",
          "polar": {
           "angularaxis": {
            "gridcolor": "white",
            "linecolor": "white",
            "ticks": ""
           },
           "bgcolor": "#E5ECF6",
           "radialaxis": {
            "gridcolor": "white",
            "linecolor": "white",
            "ticks": ""
           }
          },
          "scene": {
           "xaxis": {
            "backgroundcolor": "#E5ECF6",
            "gridcolor": "white",
            "gridwidth": 2,
            "linecolor": "white",
            "showbackground": true,
            "ticks": "",
            "zerolinecolor": "white"
           },
           "yaxis": {
            "backgroundcolor": "#E5ECF6",
            "gridcolor": "white",
            "gridwidth": 2,
            "linecolor": "white",
            "showbackground": true,
            "ticks": "",
            "zerolinecolor": "white"
           },
           "zaxis": {
            "backgroundcolor": "#E5ECF6",
            "gridcolor": "white",
            "gridwidth": 2,
            "linecolor": "white",
            "showbackground": true,
            "ticks": "",
            "zerolinecolor": "white"
           }
          },
          "shapedefaults": {
           "line": {
            "color": "#2a3f5f"
           }
          },
          "ternary": {
           "aaxis": {
            "gridcolor": "white",
            "linecolor": "white",
            "ticks": ""
           },
           "baxis": {
            "gridcolor": "white",
            "linecolor": "white",
            "ticks": ""
           },
           "bgcolor": "#E5ECF6",
           "caxis": {
            "gridcolor": "white",
            "linecolor": "white",
            "ticks": ""
           }
          },
          "title": {
           "x": 0.05
          },
          "xaxis": {
           "automargin": true,
           "gridcolor": "white",
           "linecolor": "white",
           "ticks": "",
           "title": {
            "standoff": 15
           },
           "zerolinecolor": "white",
           "zerolinewidth": 2
          },
          "yaxis": {
           "automargin": true,
           "gridcolor": "white",
           "linecolor": "white",
           "ticks": "",
           "title": {
            "standoff": 15
           },
           "zerolinecolor": "white",
           "zerolinewidth": 2
          }
         }
        },
        "title": {
         "text": "Lego Set Price Difference per Theme",
         "x": 0.5
        },
        "width": 800,
        "xaxis": {
         "anchor": "y",
         "autorange": true,
         "domain": [
          0,
          1
         ],
         "range": [
          -20,
          120
         ],
         "title": {
          "text": "Amazon Price - Retail Price ($)"
         },
         "type": "linear"
        },
        "yaxis": {
         "anchor": "x",
         "autorange": true,
         "domain": [
          0,
          1
         ],
         "range": [
          0,
          35.78947368421053
         ],
         "title": {
          "text": "Frequency"
         }
        }
       }
      },
      "image/png": "[encoded data removed]",
      "text/html": [
       "<div>                            <div id=\"ad9a9bc9-d5ad-47a2-8434-1e9f232e296b\" class=\"plotly-graph-div\" style=\"height:600px; width:800px;\"></div>            <script type=\"text/javascript\">                require([\"plotly\"], function(Plotly) {                    window.PLOTLYENV=window.PLOTLYENV || {};                                    if (document.getElementById(\"ad9a9bc9-d5ad-47a2-8434-1e9f232e296b\")) {                    Plotly.newPlot(                        \"ad9a9bc9-d5ad-47a2-8434-1e9f232e296b\",                        [{\"alignmentgroup\":\"True\",\"bingroup\":\"x\",\"hovertemplate\":\"theme=DUPLO\\u00ae\\u003cbr\\u003eprice_difference=%{x}\\u003cbr\\u003ecount=%{y}\\u003cextra\\u003e\\u003c\\u002fextra\\u003e\",\"legendgroup\":\"DUPLO\\u00ae\",\"marker\":{\"color\":\"blue\",\"opacity\":0.5,\"pattern\":{\"shape\":\"\"}},\"name\":\"DUPLO\\u00ae\",\"nbinsx\":10,\"offsetgroup\":\"DUPLO\\u00ae\",\"orientation\":\"v\",\"showlegend\":true,\"x\":[11.01,4.459999999999999,24.9,6.699999999999996,17.000000000000004,0.0,-3.0,8.959999999999994,44.510000000000005,69.0,-2.0,-0.4399999999999977,-3.9899999999999984,-2.0,11.12,0.0,13.28,-2.0,-3.0,-0.7000000000000002,-3.0,0.0,-1.0,-5.0000000000000036,0.0],\"xaxis\":\"x\",\"yaxis\":\"y\",\"type\":\"histogram\"},{\"alignmentgroup\":\"True\",\"bingroup\":\"x\",\"hovertemplate\":\"theme=Friends\\u003cbr\\u003eprice_difference=%{x}\\u003cbr\\u003ecount=%{y}\\u003cextra\\u003e\\u003c\\u002fextra\\u003e\",\"legendgroup\":\"Friends\",\"marker\":{\"color\":\"red\",\"opacity\":0.5,\"pattern\":{\"shape\":\"\"}},\"name\":\"Friends\",\"nbinsx\":10,\"offsetgroup\":\"Friends\",\"orientation\":\"v\",\"showlegend\":true,\"x\":[25.409999999999997,25.960000000000004,23.890000000000004,115.00000000000001,4.010000000000002,7.0,10.65,3.959999999999999,-4.0,-6.999999999999993,-9.990000000000002,11.280000000000001,-8.32,7.0,0.0,-1.4600000000000009,-1.0,8.94,7.979999999999999,5.33,0.0,-0.03999999999999915,-0.03999999999999204,-0.03999999999999915,-0.03999999999999915],\"xaxis\":\"x\",\"yaxis\":\"y\",\"type\":\"histogram\"},{\"alignmentgroup\":\"True\",\"bingroup\":\"x\",\"hovertemplate\":\"theme=City\\u003cbr\\u003eprice_difference=%{x}\\u003cbr\\u003ecount=%{y}\\u003cextra\\u003e\\u003c\\u002fextra\\u003e\",\"legendgroup\":\"City\",\"marker\":{\"color\":\"green\",\"opacity\":0.5,\"pattern\":{\"shape\":\"\"}},\"name\":\"City\",\"nbinsx\":10,\"offsetgroup\":\"City\",\"orientation\":\"v\",\"showlegend\":true,\"x\":[23.9,6.499999999999998,24.759999999999998,36.0,39.96000000000001,11.999999999999998,29.999999999999993,-8.530000000000001,3.84,-13.989999999999995,-6.0,-1.0,-3.9899999999999984,24.81,-8.000000000000004,-4.010000000000005,-7.25,0.0,-6.009999999999998,-1.0,-1.0,-3.9999999999999982,0.0,0.0,-2.0],\"xaxis\":\"x\",\"yaxis\":\"y\",\"type\":\"histogram\"}],                        {\"template\":{\"data\":{\"histogram2dcontour\":[{\"type\":\"histogram2dcontour\",\"colorbar\":{\"outlinewidth\":0,\"ticks\":\"\"},\"colorscale\":[[0.0,\"#0d0887\"],[0.1111111111111111,\"#46039f\"],[0.2222222222222222,\"#7201a8\"],[0.3333333333333333,\"#9c179e\"],[0.4444444444444444,\"#bd3786\"],[0.5555555555555556,\"#d8576b\"],[0.6666666666666666,\"#ed7953\"],[0.7777777777777778,\"#fb9f3a\"],[0.8888888888888888,\"#fdca26\"],[1.0,\"#f0f921\"]]}],\"choropleth\":[{\"type\":\"choropleth\",\"colorbar\":{\"outlinewidth\":0,\"ticks\":\"\"}}],\"histogram2d\":[{\"type\":\"histogram2d\",\"colorbar\":{\"outlinewidth\":0,\"ticks\":\"\"},\"colorscale\":[[0.0,\"#0d0887\"],[0.1111111111111111,\"#46039f\"],[0.2222222222222222,\"#7201a8\"],[0.3333333333333333,\"#9c179e\"],[0.4444444444444444,\"#bd3786\"],[0.5555555555555556,\"#d8576b\"],[0.6666666666666666,\"#ed7953\"],[0.7777777777777778,\"#fb9f3a\"],[0.8888888888888888,\"#fdca26\"],[1.0,\"#f0f921\"]]}],\"heatmap\":[{\"type\":\"heatmap\",\"colorbar\":{\"outlinewidth\":0,\"ticks\":\"\"},\"colorscale\":[[0.0,\"#0d0887\"],[0.1111111111111111,\"#46039f\"],[0.2222222222222222,\"#7201a8\"],[0.3333333333333333,\"#9c179e\"],[0.4444444444444444,\"#bd3786\"],[0.5555555555555556,\"#d8576b\"],[0.6666666666666666,\"#ed7953\"],[0.7777777777777778,\"#fb9f3a\"],[0.8888888888888888,\"#fdca26\"],[1.0,\"#f0f921\"]]}],\"heatmapgl\":[{\"type\":\"heatmapgl\",\"colorbar\":{\"outlinewidth\":0,\"ticks\":\"\"},\"colorscale\":[[0.0,\"#0d0887\"],[0.1111111111111111,\"#46039f\"],[0.2222222222222222,\"#7201a8\"],[0.3333333333333333,\"#9c179e\"],[0.4444444444444444,\"#bd3786\"],[0.5555555555555556,\"#d8576b\"],[0.6666666666666666,\"#ed7953\"],[0.7777777777777778,\"#fb9f3a\"],[0.8888888888888888,\"#fdca26\"],[1.0,\"#f0f921\"]]}],\"contourcarpet\":[{\"type\":\"contourcarpet\",\"colorbar\":{\"outlinewidth\":0,\"ticks\":\"\"}}],\"contour\":[{\"type\":\"contour\",\"colorbar\":{\"outlinewidth\":0,\"ticks\":\"\"},\"colorscale\":[[0.0,\"#0d0887\"],[0.1111111111111111,\"#46039f\"],[0.2222222222222222,\"#7201a8\"],[0.3333333333333333,\"#9c179e\"],[0.4444444444444444,\"#bd3786\"],[0.5555555555555556,\"#d8576b\"],[0.6666666666666666,\"#ed7953\"],[0.7777777777777778,\"#fb9f3a\"],[0.8888888888888888,\"#fdca26\"],[1.0,\"#f0f921\"]]}],\"surface\":[{\"type\":\"surface\",\"colorbar\":{\"outlinewidth\":0,\"ticks\":\"\"},\"colorscale\":[[0.0,\"#0d0887\"],[0.1111111111111111,\"#46039f\"],[0.2222222222222222,\"#7201a8\"],[0.3333333333333333,\"#9c179e\"],[0.4444444444444444,\"#bd3786\"],[0.5555555555555556,\"#d8576b\"],[0.6666666666666666,\"#ed7953\"],[0.7777777777777778,\"#fb9f3a\"],[0.8888888888888888,\"#fdca26\"],[1.0,\"#f0f921\"]]}],\"mesh3d\":[{\"type\":\"mesh3d\",\"colorbar\":{\"outlinewidth\":0,\"ticks\":\"\"}}],\"scatter\":[{\"fillpattern\":{\"fillmode\":\"overlay\",\"size\":10,\"solidity\":0.2},\"type\":\"scatter\"}],\"parcoords\":[{\"type\":\"parcoords\",\"line\":{\"colorbar\":{\"outlinewidth\":0,\"ticks\":\"\"}}}],\"scatterpolargl\":[{\"type\":\"scatterpolargl\",\"marker\":{\"colorbar\":{\"outlinewidth\":0,\"ticks\":\"\"}}}],\"bar\":[{\"error_x\":{\"color\":\"#2a3f5f\"},\"error_y\":{\"color\":\"#2a3f5f\"},\"marker\":{\"line\":{\"color\":\"#E5ECF6\",\"width\":0.5},\"pattern\":{\"fillmode\":\"overlay\",\"size\":10,\"solidity\":0.2}},\"type\":\"bar\"}],\"scattergeo\":[{\"type\":\"scattergeo\",\"marker\":{\"colorbar\":{\"outlinewidth\":0,\"ticks\":\"\"}}}],\"scatterpolar\":[{\"type\":\"scatterpolar\",\"marker\":{\"colorbar\":{\"outlinewidth\":0,\"ticks\":\"\"}}}],\"histogram\":[{\"marker\":{\"pattern\":{\"fillmode\":\"overlay\",\"size\":10,\"solidity\":0.2}},\"type\":\"histogram\"}],\"scattergl\":[{\"type\":\"scattergl\",\"marker\":{\"colorbar\":{\"outlinewidth\":0,\"ticks\":\"\"}}}],\"scatter3d\":[{\"type\":\"scatter3d\",\"line\":{\"colorbar\":{\"outlinewidth\":0,\"ticks\":\"\"}},\"marker\":{\"colorbar\":{\"outlinewidth\":0,\"ticks\":\"\"}}}],\"scattermapbox\":[{\"type\":\"scattermapbox\",\"marker\":{\"colorbar\":{\"outlinewidth\":0,\"ticks\":\"\"}}}],\"scatterternary\":[{\"type\":\"scatterternary\",\"marker\":{\"colorbar\":{\"outlinewidth\":0,\"ticks\":\"\"}}}],\"scattercarpet\":[{\"type\":\"scattercarpet\",\"marker\":{\"colorbar\":{\"outlinewidth\":0,\"ticks\":\"\"}}}],\"carpet\":[{\"aaxis\":{\"endlinecolor\":\"#2a3f5f\",\"gridcolor\":\"white\",\"linecolor\":\"white\",\"minorgridcolor\":\"white\",\"startlinecolor\":\"#2a3f5f\"},\"baxis\":{\"endlinecolor\":\"#2a3f5f\",\"gridcolor\":\"white\",\"linecolor\":\"white\",\"minorgridcolor\":\"white\",\"startlinecolor\":\"#2a3f5f\"},\"type\":\"carpet\"}],\"table\":[{\"cells\":{\"fill\":{\"color\":\"#EBF0F8\"},\"line\":{\"color\":\"white\"}},\"header\":{\"fill\":{\"color\":\"#C8D4E3\"},\"line\":{\"color\":\"white\"}},\"type\":\"table\"}],\"barpolar\":[{\"marker\":{\"line\":{\"color\":\"#E5ECF6\",\"width\":0.5},\"pattern\":{\"fillmode\":\"overlay\",\"size\":10,\"solidity\":0.2}},\"type\":\"barpolar\"}],\"pie\":[{\"automargin\":true,\"type\":\"pie\"}]},\"layout\":{\"autotypenumbers\":\"strict\",\"colorway\":[\"#636efa\",\"#EF553B\",\"#00cc96\",\"#ab63fa\",\"#FFA15A\",\"#19d3f3\",\"#FF6692\",\"#B6E880\",\"#FF97FF\",\"#FECB52\"],\"font\":{\"color\":\"#2a3f5f\"},\"hovermode\":\"closest\",\"hoverlabel\":{\"align\":\"left\"},\"paper_bgcolor\":\"white\",\"plot_bgcolor\":\"#E5ECF6\",\"polar\":{\"bgcolor\":\"#E5ECF6\",\"angularaxis\":{\"gridcolor\":\"white\",\"linecolor\":\"white\",\"ticks\":\"\"},\"radialaxis\":{\"gridcolor\":\"white\",\"linecolor\":\"white\",\"ticks\":\"\"}},\"ternary\":{\"bgcolor\":\"#E5ECF6\",\"aaxis\":{\"gridcolor\":\"white\",\"linecolor\":\"white\",\"ticks\":\"\"},\"baxis\":{\"gridcolor\":\"white\",\"linecolor\":\"white\",\"ticks\":\"\"},\"caxis\":{\"gridcolor\":\"white\",\"linecolor\":\"white\",\"ticks\":\"\"}},\"coloraxis\":{\"colorbar\":{\"outlinewidth\":0,\"ticks\":\"\"}},\"colorscale\":{\"sequential\":[[0.0,\"#0d0887\"],[0.1111111111111111,\"#46039f\"],[0.2222222222222222,\"#7201a8\"],[0.3333333333333333,\"#9c179e\"],[0.4444444444444444,\"#bd3786\"],[0.5555555555555556,\"#d8576b\"],[0.6666666666666666,\"#ed7953\"],[0.7777777777777778,\"#fb9f3a\"],[0.8888888888888888,\"#fdca26\"],[1.0,\"#f0f921\"]],\"sequentialminus\":[[0.0,\"#0d0887\"],[0.1111111111111111,\"#46039f\"],[0.2222222222222222,\"#7201a8\"],[0.3333333333333333,\"#9c179e\"],[0.4444444444444444,\"#bd3786\"],[0.5555555555555556,\"#d8576b\"],[0.6666666666666666,\"#ed7953\"],[0.7777777777777778,\"#fb9f3a\"],[0.8888888888888888,\"#fdca26\"],[1.0,\"#f0f921\"]],\"diverging\":[[0,\"#8e0152\"],[0.1,\"#c51b7d\"],[0.2,\"#de77ae\"],[0.3,\"#f1b6da\"],[0.4,\"#fde0ef\"],[0.5,\"#f7f7f7\"],[0.6,\"#e6f5d0\"],[0.7,\"#b8e186\"],[0.8,\"#7fbc41\"],[0.9,\"#4d9221\"],[1,\"#276419\"]]},\"xaxis\":{\"gridcolor\":\"white\",\"linecolor\":\"white\",\"ticks\":\"\",\"title\":{\"standoff\":15},\"zerolinecolor\":\"white\",\"automargin\":true,\"zerolinewidth\":2},\"yaxis\":{\"gridcolor\":\"white\",\"linecolor\":\"white\",\"ticks\":\"\",\"title\":{\"standoff\":15},\"zerolinecolor\":\"white\",\"automargin\":true,\"zerolinewidth\":2},\"scene\":{\"xaxis\":{\"backgroundcolor\":\"#E5ECF6\",\"gridcolor\":\"white\",\"linecolor\":\"white\",\"showbackground\":true,\"ticks\":\"\",\"zerolinecolor\":\"white\",\"gridwidth\":2},\"yaxis\":{\"backgroundcolor\":\"#E5ECF6\",\"gridcolor\":\"white\",\"linecolor\":\"white\",\"showbackground\":true,\"ticks\":\"\",\"zerolinecolor\":\"white\",\"gridwidth\":2},\"zaxis\":{\"backgroundcolor\":\"#E5ECF6\",\"gridcolor\":\"white\",\"linecolor\":\"white\",\"showbackground\":true,\"ticks\":\"\",\"zerolinecolor\":\"white\",\"gridwidth\":2}},\"shapedefaults\":{\"line\":{\"color\":\"#2a3f5f\"}},\"annotationdefaults\":{\"arrowcolor\":\"#2a3f5f\",\"arrowhead\":0,\"arrowwidth\":1},\"geo\":{\"bgcolor\":\"white\",\"landcolor\":\"#E5ECF6\",\"subunitcolor\":\"white\",\"showland\":true,\"showlakes\":true,\"lakecolor\":\"white\"},\"title\":{\"x\":0.05},\"mapbox\":{\"style\":\"light\"}}},\"xaxis\":{\"anchor\":\"y\",\"domain\":[0.0,1.0],\"title\":{\"text\":\"Amazon Price - Retail Price ($)\"}},\"yaxis\":{\"anchor\":\"x\",\"domain\":[0.0,1.0],\"title\":{\"text\":\"Frequency\"}},\"legend\":{\"title\":{\"text\":\"Theme\"},\"tracegroupgap\":0},\"margin\":{\"t\":60},\"barmode\":\"relative\",\"title\":{\"text\":\"Lego Set Price Difference per Theme\",\"x\":0.5},\"bargap\":0.1,\"autosize\":false,\"width\":800,\"height\":600},                        {\"responsive\": true}                    ).then(function(){\n",
       "                            \n",
       "var gd = document.getElementById('ad9a9bc9-d5ad-47a2-8434-1e9f232e296b');\n",
       "var x = new MutationObserver(function (mutations, observer) {{\n",
       "        var display = window.getComputedStyle(gd).display;\n",
       "        if (!display || display === 'none') {{\n",
       "            console.log([gd, 'removed!']);\n",
       "            Plotly.purge(gd);\n",
       "            observer.disconnect();\n",
       "        }}\n",
       "}});\n",
       "\n",
       "// Listen for the removal of the full notebook cells\n",
       "var notebookContainer = gd.closest('#notebook-container');\n",
       "if (notebookContainer) {{\n",
       "    x.observe(notebookContainer, {childList: true});\n",
       "}}\n",
       "\n",
       "// Listen for the clearing of the current output cell\n",
       "var outputEl = gd.closest('.output');\n",
       "if (outputEl) {{\n",
       "    x.observe(outputEl, {childList: true});\n",
       "}}\n",
       "\n",
       "                        })                };                });            </script>        </div>"
      ]
     },
     "metadata": {},
     "output_type": "display_data"
    }
   ],
   "source": [
    "# Insert code here\n",
    "fig = px.histogram(df_raw,\n",
    "                   nbins=10,\n",
    "                   x='price_difference',\n",
    "                   color = 'theme',\n",
    "                   opacity=0.5,\n",
    "                   color_discrete_map={'DUPLO®': 'blue', \n",
    "                                       'Friends': 'red', \n",
    "                                       'City': 'green'}\n",
    "                   )\n",
    "\n",
    "fig.update_layout(bargap = 0.1,\n",
    "                  title = 'Lego Set Price Difference per Theme',\n",
    "                  title_x = 0.5,\n",
    "                  #xaxis = {'range':[-1000, 46000]},\n",
    "                  xaxis_title = \"Amazon Price - Retail Price ($)\",\n",
    "                  yaxis_title = \"Frequency\",\n",
    "                  legend_title= \"Theme\",\n",
    "                  autosize=False,\n",
    "                  width=800,\n",
    "                  height=600)\n",
    "fig.show()"
   ]
  },
  {
   "cell_type": "markdown",
   "id": "dbf273f5-0eb0-4e8c-a960-1c37ea7f3d56",
   "metadata": {},
   "source": [
    "Upon further examination, we can especially see for the Friends sets and partially for the Duplo sets, there may not be a listed price on Amazon, causing the the data to be overestimated. This warrants further examination and subsequent data wrangling of missing values. "
   ]
  },
  {
   "cell_type": "markdown",
   "id": "4bf51ed7-1b64-44a6-9617-bfcfc0a51c72",
   "metadata": {
    "jp-MarkdownHeadingCollapsed": true
   },
   "source": [
    "### Problem 5 (20 points)"
   ]
  },
  {
   "cell_type": "markdown",
   "id": "2e6771da-0a9b-4d3b-b751-75f5e67baa5f",
   "metadata": {},
   "source": [
    "#### (a) What was the most expensive set based on Retail price? Show the full data frame information for this observation. Comment on your results comparing Amazon and Retail, number of pieces or minifigs, etc."
   ]
  },
  {
   "cell_type": "code",
   "execution_count": 226,
   "id": "bc10227e-6c03-435d-a709-1e77159efa1f",
   "metadata": {},
   "outputs": [
    {
     "name": "stdout",
     "output_type": "stream",
     "text": [
      " The most expensive set based of retail price is the Ocean Exploration Ship set.\n",
      " The retail price is: 149.99\n"
     ]
    },
    {
     "data": {
      "text/html": [
       "<div>\n",
       "<style scoped>\n",
       "    .dataframe tbody tr th:only-of-type {\n",
       "        vertical-align: middle;\n",
       "    }\n",
       "\n",
       "    .dataframe tbody tr th {\n",
       "        vertical-align: top;\n",
       "    }\n",
       "\n",
       "    .dataframe thead th {\n",
       "        text-align: right;\n",
       "    }\n",
       "</style>\n",
       "<table border=\"1\" class=\"dataframe\">\n",
       "  <thead>\n",
       "    <tr style=\"text-align: right;\">\n",
       "      <th></th>\n",
       "      <th>item_number</th>\n",
       "      <th>set_name</th>\n",
       "      <th>theme</th>\n",
       "      <th>pieces</th>\n",
       "      <th>price</th>\n",
       "      <th>amazon_price</th>\n",
       "      <th>year</th>\n",
       "      <th>ages</th>\n",
       "      <th>pages</th>\n",
       "      <th>minifigures</th>\n",
       "      <th>packaging</th>\n",
       "      <th>weight</th>\n",
       "      <th>unique_pieces</th>\n",
       "      <th>size</th>\n",
       "      <th>price_difference</th>\n",
       "    </tr>\n",
       "  </thead>\n",
       "  <tbody>\n",
       "    <tr>\n",
       "      <th>0</th>\n",
       "      <td>60266</td>\n",
       "      <td>Ocean Exploration Ship</td>\n",
       "      <td>City</td>\n",
       "      <td>745</td>\n",
       "      <td>149.99</td>\n",
       "      <td>149.99</td>\n",
       "      <td>2020</td>\n",
       "      <td>Ages_7+</td>\n",
       "      <td>229</td>\n",
       "      <td>8.0</td>\n",
       "      <td>Box</td>\n",
       "      <td>2.28Kg (5.03 lb)</td>\n",
       "      <td>314</td>\n",
       "      <td>Small</td>\n",
       "      <td>0.0</td>\n",
       "    </tr>\n",
       "  </tbody>\n",
       "</table>\n",
       "</div>"
      ],
      "text/plain": [
       "   item_number                set_name theme  pieces   price  amazon_price  \\\n",
       "0        60266  Ocean Exploration Ship  City     745  149.99        149.99   \n",
       "\n",
       "   year     ages  pages  minifigures packaging            weight  \\\n",
       "0  2020  Ages_7+    229          8.0       Box  2.28Kg (5.03 lb)   \n",
       "\n",
       "   unique_pieces   size  price_difference  \n",
       "0            314  Small               0.0  "
      ]
     },
     "execution_count": 226,
     "metadata": {},
     "output_type": "execute_result"
    }
   ],
   "source": [
    "# Insert code here\n",
    "df_q5a = df_raw.sort_values(by = 'price', ascending = False).reset_index(drop = True)\n",
    "df_q5a_max = df_q5a[['set_name','price']].iloc[0]\n",
    "print(' The most expensive set based of retail price is the',df_q5a_max.iloc[0],'set.\\n',\n",
    "      'The retail price is:',df_q5a_max.iloc[1])\n",
    "df_q5a.head(1)"
   ]
  },
  {
   "cell_type": "markdown",
   "id": "27ae03c8-41e0-41d2-91ca-f111672fb497",
   "metadata": {},
   "source": [
    "We can see the most expensive set has its price matched on Amazon, has 314 unique pieces, and 745 pieces."
   ]
  },
  {
   "cell_type": "markdown",
   "id": "c21a4ecb-cceb-46ba-814a-92c59d39a187",
   "metadata": {},
   "source": [
    "#### (b) What was the most expensive set based on Amazon price? Show the full data frame information for this observation.\n"
   ]
  },
  {
   "cell_type": "code",
   "execution_count": 225,
   "id": "19a0e9ae-1732-4186-95a2-5a13f8c702a7",
   "metadata": {},
   "outputs": [
    {
     "name": "stdout",
     "output_type": "stream",
     "text": [
      " The most expensive set based of retail price is the Friendship House set.\n",
      " The retail price is: 184.99\n"
     ]
    },
    {
     "data": {
      "text/html": [
       "<div>\n",
       "<style scoped>\n",
       "    .dataframe tbody tr th:only-of-type {\n",
       "        vertical-align: middle;\n",
       "    }\n",
       "\n",
       "    .dataframe tbody tr th {\n",
       "        vertical-align: top;\n",
       "    }\n",
       "\n",
       "    .dataframe thead th {\n",
       "        text-align: right;\n",
       "    }\n",
       "</style>\n",
       "<table border=\"1\" class=\"dataframe\">\n",
       "  <thead>\n",
       "    <tr style=\"text-align: right;\">\n",
       "      <th></th>\n",
       "      <th>item_number</th>\n",
       "      <th>set_name</th>\n",
       "      <th>theme</th>\n",
       "      <th>pieces</th>\n",
       "      <th>price</th>\n",
       "      <th>amazon_price</th>\n",
       "      <th>year</th>\n",
       "      <th>ages</th>\n",
       "      <th>pages</th>\n",
       "      <th>minifigures</th>\n",
       "      <th>packaging</th>\n",
       "      <th>weight</th>\n",
       "      <th>unique_pieces</th>\n",
       "      <th>size</th>\n",
       "      <th>price_difference</th>\n",
       "    </tr>\n",
       "  </thead>\n",
       "  <tbody>\n",
       "    <tr>\n",
       "      <th>0</th>\n",
       "      <td>41340</td>\n",
       "      <td>Friendship House</td>\n",
       "      <td>Friends</td>\n",
       "      <td>722</td>\n",
       "      <td>69.99</td>\n",
       "      <td>184.99</td>\n",
       "      <td>2018</td>\n",
       "      <td>Ages_6-12</td>\n",
       "      <td>164</td>\n",
       "      <td>3.0</td>\n",
       "      <td>Box</td>\n",
       "      <td>1.14Kg (2.51 lb)</td>\n",
       "      <td>309</td>\n",
       "      <td>Small</td>\n",
       "      <td>115.0</td>\n",
       "    </tr>\n",
       "  </tbody>\n",
       "</table>\n",
       "</div>"
      ],
      "text/plain": [
       "   item_number          set_name    theme  pieces  price  amazon_price  year  \\\n",
       "0        41340  Friendship House  Friends     722  69.99        184.99  2018   \n",
       "\n",
       "        ages  pages  minifigures packaging            weight  unique_pieces  \\\n",
       "0  Ages_6-12    164          3.0       Box  1.14Kg (2.51 lb)            309   \n",
       "\n",
       "    size  price_difference  \n",
       "0  Small             115.0  "
      ]
     },
     "execution_count": 225,
     "metadata": {},
     "output_type": "execute_result"
    }
   ],
   "source": [
    "# Insert code here\n",
    "df_q5b = df_raw.sort_values(by = 'amazon_price', ascending = False).reset_index(drop = True)\n",
    "df_q5b_max = df_q5b[['set_name','amazon_price']].iloc[0]\n",
    "print(' The most expensive set based of retail price is the',df_q5b_max.iloc[0],'set.\\n',\n",
    "      'The retail price is:',df_q5b_max.iloc[1])\n",
    "df_q5b.head(1)"
   ]
  },
  {
   "cell_type": "markdown",
   "id": "79e3b38b-e24b-488c-91bc-562296a4b353",
   "metadata": {},
   "source": [
    "#### (c) How many sets were above $100 on either Retail or Amazon? Show the full data frame information for these observations. Comment on any observations for these sets."
   ]
  },
  {
   "cell_type": "code",
   "execution_count": 228,
   "id": "bce2ba0e-a63c-459e-a46f-a9f0c13e01d5",
   "metadata": {},
   "outputs": [
    {
     "data": {
      "text/html": [
       "<div>\n",
       "<style scoped>\n",
       "    .dataframe tbody tr th:only-of-type {\n",
       "        vertical-align: middle;\n",
       "    }\n",
       "\n",
       "    .dataframe tbody tr th {\n",
       "        vertical-align: top;\n",
       "    }\n",
       "\n",
       "    .dataframe thead th {\n",
       "        text-align: right;\n",
       "    }\n",
       "</style>\n",
       "<table border=\"1\" class=\"dataframe\">\n",
       "  <thead>\n",
       "    <tr style=\"text-align: right;\">\n",
       "      <th></th>\n",
       "      <th>item_number</th>\n",
       "      <th>set_name</th>\n",
       "      <th>theme</th>\n",
       "      <th>pieces</th>\n",
       "      <th>price</th>\n",
       "      <th>amazon_price</th>\n",
       "      <th>year</th>\n",
       "      <th>ages</th>\n",
       "      <th>pages</th>\n",
       "      <th>minifigures</th>\n",
       "      <th>packaging</th>\n",
       "      <th>weight</th>\n",
       "      <th>unique_pieces</th>\n",
       "      <th>size</th>\n",
       "      <th>price_difference</th>\n",
       "    </tr>\n",
       "  </thead>\n",
       "  <tbody>\n",
       "    <tr>\n",
       "      <th>7</th>\n",
       "      <td>10875</td>\n",
       "      <td>Cargo Train</td>\n",
       "      <td>DUPLO®</td>\n",
       "      <td>105</td>\n",
       "      <td>119.99</td>\n",
       "      <td>128.95</td>\n",
       "      <td>2018</td>\n",
       "      <td>Ages_2-5</td>\n",
       "      <td>64</td>\n",
       "      <td>3.0</td>\n",
       "      <td>Box</td>\n",
       "      <td>2.86Kg (6.31 lb)</td>\n",
       "      <td>68</td>\n",
       "      <td>Large</td>\n",
       "      <td>8.96</td>\n",
       "    </tr>\n",
       "    <tr>\n",
       "      <th>28</th>\n",
       "      <td>41340</td>\n",
       "      <td>Friendship House</td>\n",
       "      <td>Friends</td>\n",
       "      <td>722</td>\n",
       "      <td>69.99</td>\n",
       "      <td>184.99</td>\n",
       "      <td>2018</td>\n",
       "      <td>Ages_6-12</td>\n",
       "      <td>164</td>\n",
       "      <td>3.0</td>\n",
       "      <td>Box</td>\n",
       "      <td>1.14Kg (2.51 lb)</td>\n",
       "      <td>309</td>\n",
       "      <td>Small</td>\n",
       "      <td>115.00</td>\n",
       "    </tr>\n",
       "    <tr>\n",
       "      <th>73</th>\n",
       "      <td>60266</td>\n",
       "      <td>Ocean Exploration Ship</td>\n",
       "      <td>City</td>\n",
       "      <td>745</td>\n",
       "      <td>149.99</td>\n",
       "      <td>149.99</td>\n",
       "      <td>2020</td>\n",
       "      <td>Ages_7+</td>\n",
       "      <td>229</td>\n",
       "      <td>8.0</td>\n",
       "      <td>Box</td>\n",
       "      <td>2.28Kg (5.03 lb)</td>\n",
       "      <td>314</td>\n",
       "      <td>Small</td>\n",
       "      <td>0.00</td>\n",
       "    </tr>\n",
       "  </tbody>\n",
       "</table>\n",
       "</div>"
      ],
      "text/plain": [
       "    item_number                set_name    theme  pieces   price  \\\n",
       "7         10875             Cargo Train   DUPLO®     105  119.99   \n",
       "28        41340        Friendship House  Friends     722   69.99   \n",
       "73        60266  Ocean Exploration Ship     City     745  149.99   \n",
       "\n",
       "    amazon_price  year       ages  pages  minifigures packaging  \\\n",
       "7         128.95  2018   Ages_2-5     64          3.0       Box   \n",
       "28        184.99  2018  Ages_6-12    164          3.0       Box   \n",
       "73        149.99  2020    Ages_7+    229          8.0       Box   \n",
       "\n",
       "              weight  unique_pieces   size  price_difference  \n",
       "7   2.86Kg (6.31 lb)             68  Large              8.96  \n",
       "28  1.14Kg (2.51 lb)            309  Small            115.00  \n",
       "73  2.28Kg (5.03 lb)            314  Small              0.00  "
      ]
     },
     "execution_count": 228,
     "metadata": {},
     "output_type": "execute_result"
    }
   ],
   "source": [
    "# Insert code here\n",
    "mask = (df_raw['price'] > 100) | (df_raw['amazon_price'] > 100)\n",
    "df_raw[mask]"
   ]
  },
  {
   "cell_type": "markdown",
   "id": "e391873a-07aa-418f-879c-9153efe8dbfc",
   "metadata": {},
   "source": [
    "The three observations have little in common in that no distiguishable association between the three LEGO sets can be made without external information or further analysis. "
   ]
  },
  {
   "cell_type": "markdown",
   "id": "58d6c4e7-955b-41ce-ac41-3fd2406515ef",
   "metadata": {
    "jp-MarkdownHeadingCollapsed": true
   },
   "source": [
    "### Problem 6 (20 points)"
   ]
  },
  {
   "cell_type": "markdown",
   "id": "3e548f97-07ba-45cc-a241-1d0c69d90473",
   "metadata": {},
   "source": [
    "#### (a) On average is the price of Legos increasing, decreasing, or staying the same over the three years?"
   ]
  },
  {
   "cell_type": "code",
   "execution_count": 120,
   "id": "ae6afce4-8eb7-46c8-bb59-344032bd048d",
   "metadata": {},
   "outputs": [
    {
     "data": {
      "text/html": [
       "<div>\n",
       "<style scoped>\n",
       "    .dataframe tbody tr th:only-of-type {\n",
       "        vertical-align: middle;\n",
       "    }\n",
       "\n",
       "    .dataframe tbody tr th {\n",
       "        vertical-align: top;\n",
       "    }\n",
       "\n",
       "    .dataframe thead th {\n",
       "        text-align: right;\n",
       "    }\n",
       "</style>\n",
       "<table border=\"1\" class=\"dataframe\">\n",
       "  <thead>\n",
       "    <tr style=\"text-align: right;\">\n",
       "      <th></th>\n",
       "      <th>Average Price</th>\n",
       "    </tr>\n",
       "    <tr>\n",
       "      <th>year</th>\n",
       "      <th></th>\n",
       "    </tr>\n",
       "  </thead>\n",
       "  <tbody>\n",
       "    <tr>\n",
       "      <th>2018</th>\n",
       "      <td>28.772609</td>\n",
       "    </tr>\n",
       "    <tr>\n",
       "      <th>2019</th>\n",
       "      <td>28.670000</td>\n",
       "    </tr>\n",
       "    <tr>\n",
       "      <th>2020</th>\n",
       "      <td>38.212222</td>\n",
       "    </tr>\n",
       "  </tbody>\n",
       "</table>\n",
       "</div>"
      ],
      "text/plain": [
       "      Average Price\n",
       "year               \n",
       "2018      28.772609\n",
       "2019      28.670000\n",
       "2020      38.212222"
      ]
     },
     "execution_count": 120,
     "metadata": {},
     "output_type": "execute_result"
    }
   ],
   "source": [
    "# Insert code here\n",
    "df_q6a = df_raw[['year','price']].groupby('year').mean()\n",
    "df_q6a.rename(columns = {'price':'Average Price'}, inplace = True)\n",
    "df_q6a"
   ]
  },
  {
   "cell_type": "markdown",
   "id": "66a83452-78cc-40eb-b337-de956f9ed34d",
   "metadata": {},
   "source": [
    "Above, we can see the the average price of LEGOS has substantially increased from 2018 to 2020. "
   ]
  },
  {
   "cell_type": "markdown",
   "id": "da99a193-83a6-4175-851f-561928879683",
   "metadata": {},
   "source": [
    "#### (b) On average are the number of pieces increase, decreasing, or staying the same over the three years?"
   ]
  },
  {
   "cell_type": "code",
   "execution_count": 121,
   "id": "7e8a3d9b-febb-4482-800c-d728f8767c01",
   "metadata": {},
   "outputs": [
    {
     "data": {
      "text/html": [
       "<div>\n",
       "<style scoped>\n",
       "    .dataframe tbody tr th:only-of-type {\n",
       "        vertical-align: middle;\n",
       "    }\n",
       "\n",
       "    .dataframe tbody tr th {\n",
       "        vertical-align: top;\n",
       "    }\n",
       "\n",
       "    .dataframe thead th {\n",
       "        text-align: right;\n",
       "    }\n",
       "</style>\n",
       "<table border=\"1\" class=\"dataframe\">\n",
       "  <thead>\n",
       "    <tr style=\"text-align: right;\">\n",
       "      <th></th>\n",
       "      <th>Average Pieces</th>\n",
       "    </tr>\n",
       "    <tr>\n",
       "      <th>year</th>\n",
       "      <th></th>\n",
       "    </tr>\n",
       "  </thead>\n",
       "  <tbody>\n",
       "    <tr>\n",
       "      <th>2018</th>\n",
       "      <td>157.913043</td>\n",
       "    </tr>\n",
       "    <tr>\n",
       "      <th>2019</th>\n",
       "      <td>193.120000</td>\n",
       "    </tr>\n",
       "    <tr>\n",
       "      <th>2020</th>\n",
       "      <td>232.370370</td>\n",
       "    </tr>\n",
       "  </tbody>\n",
       "</table>\n",
       "</div>"
      ],
      "text/plain": [
       "      Average Pieces\n",
       "year                \n",
       "2018      157.913043\n",
       "2019      193.120000\n",
       "2020      232.370370"
      ]
     },
     "execution_count": 121,
     "metadata": {},
     "output_type": "execute_result"
    }
   ],
   "source": [
    "# Insert code here\n",
    "df_q6b = df_raw[['year','pieces']].groupby('year').mean()\n",
    "df_q6b.rename(columns = {'pieces':'Average Pieces'}, inplace = True)\n",
    "df_q6b"
   ]
  },
  {
   "cell_type": "markdown",
   "id": "07775f00-5115-49a8-b8a4-12b22dc98dd4",
   "metadata": {},
   "source": [
    "Similarly, we can see the the average number of pieces in a LEGOS set has increased from 2018 to 2020. "
   ]
  },
  {
   "cell_type": "code",
   "execution_count": 123,
   "id": "a3d9e857-d6ef-46f8-83c8-7047f2fa96c3",
   "metadata": {},
   "outputs": [
    {
     "data": {
      "text/html": [
       "<div>\n",
       "<style scoped>\n",
       "    .dataframe tbody tr th:only-of-type {\n",
       "        vertical-align: middle;\n",
       "    }\n",
       "\n",
       "    .dataframe tbody tr th {\n",
       "        vertical-align: top;\n",
       "    }\n",
       "\n",
       "    .dataframe thead th {\n",
       "        text-align: right;\n",
       "    }\n",
       "</style>\n",
       "<table border=\"1\" class=\"dataframe\">\n",
       "  <thead>\n",
       "    <tr style=\"text-align: right;\">\n",
       "      <th></th>\n",
       "      <th>price</th>\n",
       "      <th>pieces</th>\n",
       "    </tr>\n",
       "  </thead>\n",
       "  <tbody>\n",
       "    <tr>\n",
       "      <th>price</th>\n",
       "      <td>1.000000</td>\n",
       "      <td>0.749565</td>\n",
       "    </tr>\n",
       "    <tr>\n",
       "      <th>pieces</th>\n",
       "      <td>0.749565</td>\n",
       "      <td>1.000000</td>\n",
       "    </tr>\n",
       "  </tbody>\n",
       "</table>\n",
       "</div>"
      ],
      "text/plain": [
       "           price    pieces\n",
       "price   1.000000  0.749565\n",
       "pieces  0.749565  1.000000"
      ]
     },
     "execution_count": 123,
     "metadata": {},
     "output_type": "execute_result"
    }
   ],
   "source": [
    "df_raw[['price','pieces']].corr()"
   ]
  },
  {
   "cell_type": "markdown",
   "id": "b6bcf018-1472-42ff-83b1-e3727eb6c648",
   "metadata": {},
   "source": [
    "After further analysis, we can see both price and pieces share a correlation of 0.74, indicating a possible positive relationship amongst the two."
   ]
  },
  {
   "cell_type": "markdown",
   "id": "b253377f-a070-437e-8332-424bf0088d26",
   "metadata": {},
   "source": [
    "#### (c) Which set has the most minifigures and how many sets have zero or an unknown number of minifigures?"
   ]
  },
  {
   "cell_type": "code",
   "execution_count": 158,
   "id": "02adb180-4d6e-4acc-98ae-6074acbda068",
   "metadata": {},
   "outputs": [
    {
     "name": "stdout",
     "output_type": "stream",
     "text": [
      " The set with the most minifigues is: People Pack - Outdoor Adventures \n",
      " This set has 15 minifigures.\n"
     ]
    }
   ],
   "source": [
    "# Insert code here\n",
    "# df_raw['minifigures'].max()\n",
    "df_q3c_sorted = df_raw[['set_name', 'minifigures']].sort_values(by = 'minifigures', ascending = False)\n",
    "print(' The set with the most minifigues is:',df_q3c_sorted['set_name'].iloc[0],'\\n'\n",
    "      ,'This set has',df_q3c_sorted['minifigures'].iloc[0].astype(int),'minifigures.')"
   ]
  },
  {
   "cell_type": "code",
   "execution_count": 171,
   "id": "28a0d0c6-fc25-4b4f-a346-c5668b3076e9",
   "metadata": {},
   "outputs": [
    {
     "name": "stdout",
     "output_type": "stream",
     "text": [
      "There are 14 sets where the amount of minifigures are unknown or 0.\n"
     ]
    }
   ],
   "source": [
    "mask = (df_raw['minifigures'] == 0) | (df_raw['minifigures'].isnull())\n",
    "print('There are',df_raw[mask].iloc[1].count(),'sets where the amount of minifigures are unknown or 0.')"
   ]
  },
  {
   "cell_type": "markdown",
   "id": "b319b03b-092f-4c9a-84db-bcf9f6045aa7",
   "metadata": {
    "jp-MarkdownHeadingCollapsed": true
   },
   "source": [
    "### Problem 7 (10 points)"
   ]
  },
  {
   "cell_type": "markdown",
   "id": "1ed9e53c-1921-40b7-9c49-b5164c163a92",
   "metadata": {},
   "source": [
    "#### Do an analysis that answers the question below. (free form)"
   ]
  },
  {
   "cell_type": "markdown",
   "id": "fbdd1843-3614-4f09-a215-92d7b437f203",
   "metadata": {
    "jp-MarkdownHeadingCollapsed": true
   },
   "source": [
    "\"I want to buy some Legos for my 6 year old cousin, which Lego set is the best deal?\""
   ]
  },
  {
   "cell_type": "markdown",
   "id": "d4020fd1-0f3b-449f-8bda-d2cd37430a68",
   "metadata": {},
   "source": [
    "#### First, I'll create a dataframe only with the columns I think are important, shown below. I'll then limit my selections to those suitable for 6 year olds. Lastly, I'll sort those values by price."
   ]
  },
  {
   "cell_type": "code",
   "execution_count": 305,
   "id": "e35642d7-bffd-4c54-9fdc-3ac972ece91a",
   "metadata": {},
   "outputs": [
    {
     "data": {
      "text/html": [
       "<div>\n",
       "<style scoped>\n",
       "    .dataframe tbody tr th:only-of-type {\n",
       "        vertical-align: middle;\n",
       "    }\n",
       "\n",
       "    .dataframe tbody tr th {\n",
       "        vertical-align: top;\n",
       "    }\n",
       "\n",
       "    .dataframe thead th {\n",
       "        text-align: right;\n",
       "    }\n",
       "</style>\n",
       "<table border=\"1\" class=\"dataframe\">\n",
       "  <thead>\n",
       "    <tr style=\"text-align: right;\">\n",
       "      <th></th>\n",
       "      <th>set_name</th>\n",
       "      <th>theme</th>\n",
       "      <th>pieces</th>\n",
       "      <th>price</th>\n",
       "      <th>amazon_price</th>\n",
       "      <th>year</th>\n",
       "      <th>ages</th>\n",
       "      <th>minifigures</th>\n",
       "      <th>price_difference</th>\n",
       "    </tr>\n",
       "  </thead>\n",
       "  <tbody>\n",
       "    <tr>\n",
       "      <th>28</th>\n",
       "      <td>Friendship House</td>\n",
       "      <td>Friends</td>\n",
       "      <td>722</td>\n",
       "      <td>69.99</td>\n",
       "      <td>184.99</td>\n",
       "      <td>2018</td>\n",
       "      <td>Ages_6-12</td>\n",
       "      <td>3.0</td>\n",
       "      <td>115.00</td>\n",
       "    </tr>\n",
       "    <tr>\n",
       "      <th>26</th>\n",
       "      <td>Olivia's Mission Vehicle</td>\n",
       "      <td>Friends</td>\n",
       "      <td>223</td>\n",
       "      <td>19.99</td>\n",
       "      <td>45.95</td>\n",
       "      <td>2018</td>\n",
       "      <td>Ages_6-12</td>\n",
       "      <td>1.0</td>\n",
       "      <td>25.96</td>\n",
       "    </tr>\n",
       "    <tr>\n",
       "      <th>25</th>\n",
       "      <td>Stephanie's Soccer Practice</td>\n",
       "      <td>Friends</td>\n",
       "      <td>119</td>\n",
       "      <td>14.99</td>\n",
       "      <td>40.40</td>\n",
       "      <td>2018</td>\n",
       "      <td>Ages_6-12</td>\n",
       "      <td>1.0</td>\n",
       "      <td>25.41</td>\n",
       "    </tr>\n",
       "    <tr>\n",
       "      <th>27</th>\n",
       "      <td>Mia's Tree House</td>\n",
       "      <td>Friends</td>\n",
       "      <td>351</td>\n",
       "      <td>29.99</td>\n",
       "      <td>53.88</td>\n",
       "      <td>2018</td>\n",
       "      <td>Ages_6-12</td>\n",
       "      <td>2.0</td>\n",
       "      <td>23.89</td>\n",
       "    </tr>\n",
       "    <tr>\n",
       "      <th>36</th>\n",
       "      <td>Turtles Rescue Mission</td>\n",
       "      <td>Friends</td>\n",
       "      <td>225</td>\n",
       "      <td>19.99</td>\n",
       "      <td>31.27</td>\n",
       "      <td>2019</td>\n",
       "      <td>Ages_6+</td>\n",
       "      <td>2.0</td>\n",
       "      <td>11.28</td>\n",
       "    </tr>\n",
       "    <tr>\n",
       "      <th>31</th>\n",
       "      <td>Mia's Heart Box</td>\n",
       "      <td>Friends</td>\n",
       "      <td>83</td>\n",
       "      <td>7.99</td>\n",
       "      <td>18.64</td>\n",
       "      <td>2019</td>\n",
       "      <td>Ages_6+</td>\n",
       "      <td>1.0</td>\n",
       "      <td>10.65</td>\n",
       "    </tr>\n",
       "    <tr>\n",
       "      <th>42</th>\n",
       "      <td>Andrea's Play Cube - Singer</td>\n",
       "      <td>Friends</td>\n",
       "      <td>49</td>\n",
       "      <td>9.99</td>\n",
       "      <td>18.93</td>\n",
       "      <td>2020</td>\n",
       "      <td>Ages_6+</td>\n",
       "      <td>1.0</td>\n",
       "      <td>8.94</td>\n",
       "    </tr>\n",
       "    <tr>\n",
       "      <th>43</th>\n",
       "      <td>Mia's Play Cube - Veterinarian</td>\n",
       "      <td>Friends</td>\n",
       "      <td>40</td>\n",
       "      <td>9.99</td>\n",
       "      <td>17.97</td>\n",
       "      <td>2020</td>\n",
       "      <td>Ages_6+</td>\n",
       "      <td>1.0</td>\n",
       "      <td>7.98</td>\n",
       "    </tr>\n",
       "    <tr>\n",
       "      <th>30</th>\n",
       "      <td>Stephanie's Heart Box</td>\n",
       "      <td>Friends</td>\n",
       "      <td>85</td>\n",
       "      <td>7.99</td>\n",
       "      <td>14.99</td>\n",
       "      <td>2019</td>\n",
       "      <td>Ages_6+</td>\n",
       "      <td>1.0</td>\n",
       "      <td>7.00</td>\n",
       "    </tr>\n",
       "    <tr>\n",
       "      <th>38</th>\n",
       "      <td>Andrea's Summer Heart Box</td>\n",
       "      <td>Friends</td>\n",
       "      <td>83</td>\n",
       "      <td>7.99</td>\n",
       "      <td>14.99</td>\n",
       "      <td>2019</td>\n",
       "      <td>Ages_6+</td>\n",
       "      <td>1.0</td>\n",
       "      <td>7.00</td>\n",
       "    </tr>\n",
       "    <tr>\n",
       "      <th>44</th>\n",
       "      <td>Mia's Play Cube - Cinema</td>\n",
       "      <td>Friends</td>\n",
       "      <td>37</td>\n",
       "      <td>9.99</td>\n",
       "      <td>15.32</td>\n",
       "      <td>2020</td>\n",
       "      <td>Ages_6+</td>\n",
       "      <td>1.0</td>\n",
       "      <td>5.33</td>\n",
       "    </tr>\n",
       "    <tr>\n",
       "      <th>29</th>\n",
       "      <td>Friends Advent Calendar</td>\n",
       "      <td>Friends</td>\n",
       "      <td>500</td>\n",
       "      <td>29.99</td>\n",
       "      <td>34.00</td>\n",
       "      <td>2018</td>\n",
       "      <td>Ages_6-12</td>\n",
       "      <td>NaN</td>\n",
       "      <td>4.01</td>\n",
       "    </tr>\n",
       "    <tr>\n",
       "      <th>32</th>\n",
       "      <td>Mia's Forest Adventures</td>\n",
       "      <td>Friends</td>\n",
       "      <td>134</td>\n",
       "      <td>14.99</td>\n",
       "      <td>18.95</td>\n",
       "      <td>2019</td>\n",
       "      <td>Ages_6+</td>\n",
       "      <td>1.0</td>\n",
       "      <td>3.96</td>\n",
       "    </tr>\n",
       "    <tr>\n",
       "      <th>67</th>\n",
       "      <td>Police Station</td>\n",
       "      <td>City</td>\n",
       "      <td>743</td>\n",
       "      <td>99.99</td>\n",
       "      <td>99.99</td>\n",
       "      <td>2020</td>\n",
       "      <td>Ages_6+</td>\n",
       "      <td>7.0</td>\n",
       "      <td>0.00</td>\n",
       "    </tr>\n",
       "    <tr>\n",
       "      <th>45</th>\n",
       "      <td>Baby Elephant Jungle Rescue</td>\n",
       "      <td>Friends</td>\n",
       "      <td>203</td>\n",
       "      <td>19.99</td>\n",
       "      <td>19.99</td>\n",
       "      <td>2020</td>\n",
       "      <td>Ages_6+</td>\n",
       "      <td>2.0</td>\n",
       "      <td>0.00</td>\n",
       "    </tr>\n",
       "    <tr>\n",
       "      <th>72</th>\n",
       "      <td>Tuning Workshop</td>\n",
       "      <td>City</td>\n",
       "      <td>897</td>\n",
       "      <td>99.99</td>\n",
       "      <td>99.99</td>\n",
       "      <td>2020</td>\n",
       "      <td>Ages_6+</td>\n",
       "      <td>7.0</td>\n",
       "      <td>0.00</td>\n",
       "    </tr>\n",
       "    <tr>\n",
       "      <th>39</th>\n",
       "      <td>Olivia's Summer Heart Box</td>\n",
       "      <td>Friends</td>\n",
       "      <td>93</td>\n",
       "      <td>7.99</td>\n",
       "      <td>7.99</td>\n",
       "      <td>2019</td>\n",
       "      <td>Ages_6+</td>\n",
       "      <td>2.0</td>\n",
       "      <td>0.00</td>\n",
       "    </tr>\n",
       "    <tr>\n",
       "      <th>48</th>\n",
       "      <td>Emma's Fashion Shop</td>\n",
       "      <td>Friends</td>\n",
       "      <td>343</td>\n",
       "      <td>29.99</td>\n",
       "      <td>29.95</td>\n",
       "      <td>2020</td>\n",
       "      <td>Ages_6+</td>\n",
       "      <td>2.0</td>\n",
       "      <td>-0.04</td>\n",
       "    </tr>\n",
       "    <tr>\n",
       "      <th>49</th>\n",
       "      <td>Beach House</td>\n",
       "      <td>Friends</td>\n",
       "      <td>444</td>\n",
       "      <td>49.99</td>\n",
       "      <td>49.95</td>\n",
       "      <td>2020</td>\n",
       "      <td>Ages_6+</td>\n",
       "      <td>2.0</td>\n",
       "      <td>-0.04</td>\n",
       "    </tr>\n",
       "    <tr>\n",
       "      <th>40</th>\n",
       "      <td>Heartlake City Hospital</td>\n",
       "      <td>Friends</td>\n",
       "      <td>379</td>\n",
       "      <td>49.99</td>\n",
       "      <td>48.53</td>\n",
       "      <td>2020</td>\n",
       "      <td>Ages_6+</td>\n",
       "      <td>3.0</td>\n",
       "      <td>-1.46</td>\n",
       "    </tr>\n",
       "    <tr>\n",
       "      <th>33</th>\n",
       "      <td>Stephanie's Obstacle Course</td>\n",
       "      <td>Friends</td>\n",
       "      <td>337</td>\n",
       "      <td>39.99</td>\n",
       "      <td>35.99</td>\n",
       "      <td>2019</td>\n",
       "      <td>Ages_6+</td>\n",
       "      <td>2.0</td>\n",
       "      <td>-4.00</td>\n",
       "    </tr>\n",
       "    <tr>\n",
       "      <th>60</th>\n",
       "      <td>Fire Plane</td>\n",
       "      <td>City</td>\n",
       "      <td>363</td>\n",
       "      <td>59.99</td>\n",
       "      <td>53.99</td>\n",
       "      <td>2019</td>\n",
       "      <td>Ages_6+</td>\n",
       "      <td>3.0</td>\n",
       "      <td>-6.00</td>\n",
       "    </tr>\n",
       "    <tr>\n",
       "      <th>34</th>\n",
       "      <td>Mia's House</td>\n",
       "      <td>Friends</td>\n",
       "      <td>715</td>\n",
       "      <td>69.99</td>\n",
       "      <td>62.99</td>\n",
       "      <td>2019</td>\n",
       "      <td>Ages_6+</td>\n",
       "      <td>3.0</td>\n",
       "      <td>-7.00</td>\n",
       "    </tr>\n",
       "    <tr>\n",
       "      <th>37</th>\n",
       "      <td>Dolphins Rescue Mission</td>\n",
       "      <td>Friends</td>\n",
       "      <td>363</td>\n",
       "      <td>39.99</td>\n",
       "      <td>31.67</td>\n",
       "      <td>2019</td>\n",
       "      <td>Ages_6+</td>\n",
       "      <td>2.0</td>\n",
       "      <td>-8.32</td>\n",
       "    </tr>\n",
       "    <tr>\n",
       "      <th>35</th>\n",
       "      <td>Andrea's Pool Party</td>\n",
       "      <td>Friends</td>\n",
       "      <td>468</td>\n",
       "      <td>49.99</td>\n",
       "      <td>40.00</td>\n",
       "      <td>2019</td>\n",
       "      <td>Ages_6+</td>\n",
       "      <td>2.0</td>\n",
       "      <td>-9.99</td>\n",
       "    </tr>\n",
       "  </tbody>\n",
       "</table>\n",
       "</div>"
      ],
      "text/plain": [
       "                          set_name    theme  pieces  price  amazon_price  \\\n",
       "28                Friendship House  Friends     722  69.99        184.99   \n",
       "26        Olivia's Mission Vehicle  Friends     223  19.99         45.95   \n",
       "25     Stephanie's Soccer Practice  Friends     119  14.99         40.40   \n",
       "27                Mia's Tree House  Friends     351  29.99         53.88   \n",
       "36          Turtles Rescue Mission  Friends     225  19.99         31.27   \n",
       "31                 Mia's Heart Box  Friends      83   7.99         18.64   \n",
       "42     Andrea's Play Cube - Singer  Friends      49   9.99         18.93   \n",
       "43  Mia's Play Cube - Veterinarian  Friends      40   9.99         17.97   \n",
       "30           Stephanie's Heart Box  Friends      85   7.99         14.99   \n",
       "38       Andrea's Summer Heart Box  Friends      83   7.99         14.99   \n",
       "44        Mia's Play Cube - Cinema  Friends      37   9.99         15.32   \n",
       "29         Friends Advent Calendar  Friends     500  29.99         34.00   \n",
       "32         Mia's Forest Adventures  Friends     134  14.99         18.95   \n",
       "67                  Police Station     City     743  99.99         99.99   \n",
       "45     Baby Elephant Jungle Rescue  Friends     203  19.99         19.99   \n",
       "72                 Tuning Workshop     City     897  99.99         99.99   \n",
       "39       Olivia's Summer Heart Box  Friends      93   7.99          7.99   \n",
       "48             Emma's Fashion Shop  Friends     343  29.99         29.95   \n",
       "49                     Beach House  Friends     444  49.99         49.95   \n",
       "40         Heartlake City Hospital  Friends     379  49.99         48.53   \n",
       "33     Stephanie's Obstacle Course  Friends     337  39.99         35.99   \n",
       "60                      Fire Plane     City     363  59.99         53.99   \n",
       "34                     Mia's House  Friends     715  69.99         62.99   \n",
       "37         Dolphins Rescue Mission  Friends     363  39.99         31.67   \n",
       "35             Andrea's Pool Party  Friends     468  49.99         40.00   \n",
       "\n",
       "    year       ages  minifigures  price_difference  \n",
       "28  2018  Ages_6-12          3.0            115.00  \n",
       "26  2018  Ages_6-12          1.0             25.96  \n",
       "25  2018  Ages_6-12          1.0             25.41  \n",
       "27  2018  Ages_6-12          2.0             23.89  \n",
       "36  2019    Ages_6+          2.0             11.28  \n",
       "31  2019    Ages_6+          1.0             10.65  \n",
       "42  2020    Ages_6+          1.0              8.94  \n",
       "43  2020    Ages_6+          1.0              7.98  \n",
       "30  2019    Ages_6+          1.0              7.00  \n",
       "38  2019    Ages_6+          1.0              7.00  \n",
       "44  2020    Ages_6+          1.0              5.33  \n",
       "29  2018  Ages_6-12          NaN              4.01  \n",
       "32  2019    Ages_6+          1.0              3.96  \n",
       "67  2020    Ages_6+          7.0              0.00  \n",
       "45  2020    Ages_6+          2.0              0.00  \n",
       "72  2020    Ages_6+          7.0              0.00  \n",
       "39  2019    Ages_6+          2.0              0.00  \n",
       "48  2020    Ages_6+          2.0             -0.04  \n",
       "49  2020    Ages_6+          2.0             -0.04  \n",
       "40  2020    Ages_6+          3.0             -1.46  \n",
       "33  2019    Ages_6+          2.0             -4.00  \n",
       "60  2019    Ages_6+          3.0             -6.00  \n",
       "34  2019    Ages_6+          3.0             -7.00  \n",
       "37  2019    Ages_6+          2.0             -8.32  \n",
       "35  2019    Ages_6+          2.0             -9.99  "
      ]
     },
     "execution_count": 305,
     "metadata": {},
     "output_type": "execute_result"
    }
   ],
   "source": [
    "# Insert code here\n",
    "columns = ['set_name', 'theme', 'pieces', 'price', 'amazon_price', 'year', 'ages', 'minifigures', 'price_difference',]\n",
    "df_q7 = df_raw[columns]\n",
    "mask = (df_q7['ages'] == 'Ages_6+') | (df_q7['ages'] == 'Ages_6-12')\n",
    "df_q7 = df_q7[mask]\n",
    "\n",
    "df_q7.sort_values(by = 'price_difference', ascending = False)"
   ]
  },
  {
   "cell_type": "markdown",
   "id": "834370f5-5994-480e-8297-ac96a287157a",
   "metadata": {},
   "source": [
    "#### I want to see if price_difference is related to year. I assume older lego sets sell for more on Amazon due to being collectible, which may be due to not being available in stores anymore. The opposite would also be true. Regardless, we can then see what year offers the best deals.\n",
    "\n",
    "#### My logic is: LEGOS tend to be sold in stores for short amounts of times before scalpers take them and sell them online, specifically on Amazon. I want to find price differences that are near or below zero because that means they aren't as popular and therefore cheaper than in store. While some may be cheaper in-store according to this data set, that's because that price is for when it was first released, now it's not that price."
   ]
  },
  {
   "cell_type": "code",
   "execution_count": 298,
   "id": "a57c4f6a-83d0-4699-bc81-a8f68b41ef96",
   "metadata": {},
   "outputs": [
    {
     "data": {
      "image/png": "[encoded data removed]",
      "text/plain": [
       "<Figure size 640x480 with 1 Axes>"
      ]
     },
     "metadata": {},
     "output_type": "display_data"
    }
   ],
   "source": [
    "df_q7_avepric = df_q7[['year','price_difference']].groupby('year').mean()\n",
    "\n",
    "df_q7_avepric.plot.bar()\n",
    "plt.title('Price Difference Comparison Part 1')\n",
    "plt.xlabel('Year')\n",
    "plt.legend(['Average Price Difference'])\n",
    "\n",
    "plt.show()"
   ]
  },
  {
   "cell_type": "markdown",
   "id": "2ebb17c6-e611-4331-8a30-a791e0256b10",
   "metadata": {},
   "source": [
    "We see that 2018 outweighs our comparison by a lot. So much so, it's best to remove it and do another comparison with just 2019 and 2020."
   ]
  },
  {
   "cell_type": "code",
   "execution_count": 299,
   "id": "696e071e-64d0-4d73-a467-a259c37a8e77",
   "metadata": {},
   "outputs": [
    {
     "data": {
      "image/png": "[encoded data removed]",
      "text/plain": [
       "<Figure size 640x480 with 1 Axes>"
      ]
     },
     "metadata": {},
     "output_type": "display_data"
    }
   ],
   "source": [
    "mask2 = (df_q7['year'] == 2019) | (df_q7['year'] == 2020)\n",
    "df_q72 = df_q7[mask2]\n",
    "\n",
    "df_q7_avepric = df_q72[['year','price_difference']].groupby('year').mean()\n",
    "\n",
    "df_q7_avepric.plot.bar()\n",
    "plt.xlabel('Year')\n",
    "plt.legend(['Average Price Difference'])\n",
    "\n",
    "plt.show()"
   ]
  },
  {
   "cell_type": "markdown",
   "id": "4d22fa06-54be-4090-a972-5a3790b7c2f6",
   "metadata": {},
   "source": [
    "Ultimately, 2019 offers the lowest average price difference between amazon and retail. "
   ]
  },
  {
   "cell_type": "code",
   "execution_count": 303,
   "id": "b4e6aced-645e-46c6-8f2b-f9872ada836e",
   "metadata": {},
   "outputs": [
    {
     "data": {
      "text/html": [
       "<div>\n",
       "<style scoped>\n",
       "    .dataframe tbody tr th:only-of-type {\n",
       "        vertical-align: middle;\n",
       "    }\n",
       "\n",
       "    .dataframe tbody tr th {\n",
       "        vertical-align: top;\n",
       "    }\n",
       "\n",
       "    .dataframe thead th {\n",
       "        text-align: right;\n",
       "    }\n",
       "</style>\n",
       "<table border=\"1\" class=\"dataframe\">\n",
       "  <thead>\n",
       "    <tr style=\"text-align: right;\">\n",
       "      <th></th>\n",
       "      <th>set_name</th>\n",
       "      <th>theme</th>\n",
       "      <th>pieces</th>\n",
       "      <th>price</th>\n",
       "      <th>amazon_price</th>\n",
       "      <th>year</th>\n",
       "      <th>ages</th>\n",
       "      <th>minifigures</th>\n",
       "      <th>price_difference</th>\n",
       "    </tr>\n",
       "  </thead>\n",
       "  <tbody>\n",
       "    <tr>\n",
       "      <th>35</th>\n",
       "      <td>Andrea's Pool Party</td>\n",
       "      <td>Friends</td>\n",
       "      <td>468</td>\n",
       "      <td>49.99</td>\n",
       "      <td>40.00</td>\n",
       "      <td>2019</td>\n",
       "      <td>Ages_6+</td>\n",
       "      <td>2.0</td>\n",
       "      <td>-9.99</td>\n",
       "    </tr>\n",
       "    <tr>\n",
       "      <th>37</th>\n",
       "      <td>Dolphins Rescue Mission</td>\n",
       "      <td>Friends</td>\n",
       "      <td>363</td>\n",
       "      <td>39.99</td>\n",
       "      <td>31.67</td>\n",
       "      <td>2019</td>\n",
       "      <td>Ages_6+</td>\n",
       "      <td>2.0</td>\n",
       "      <td>-8.32</td>\n",
       "    </tr>\n",
       "    <tr>\n",
       "      <th>34</th>\n",
       "      <td>Mia's House</td>\n",
       "      <td>Friends</td>\n",
       "      <td>715</td>\n",
       "      <td>69.99</td>\n",
       "      <td>62.99</td>\n",
       "      <td>2019</td>\n",
       "      <td>Ages_6+</td>\n",
       "      <td>3.0</td>\n",
       "      <td>-7.00</td>\n",
       "    </tr>\n",
       "    <tr>\n",
       "      <th>60</th>\n",
       "      <td>Fire Plane</td>\n",
       "      <td>City</td>\n",
       "      <td>363</td>\n",
       "      <td>59.99</td>\n",
       "      <td>53.99</td>\n",
       "      <td>2019</td>\n",
       "      <td>Ages_6+</td>\n",
       "      <td>3.0</td>\n",
       "      <td>-6.00</td>\n",
       "    </tr>\n",
       "    <tr>\n",
       "      <th>33</th>\n",
       "      <td>Stephanie's Obstacle Course</td>\n",
       "      <td>Friends</td>\n",
       "      <td>337</td>\n",
       "      <td>39.99</td>\n",
       "      <td>35.99</td>\n",
       "      <td>2019</td>\n",
       "      <td>Ages_6+</td>\n",
       "      <td>2.0</td>\n",
       "      <td>-4.00</td>\n",
       "    </tr>\n",
       "    <tr>\n",
       "      <th>39</th>\n",
       "      <td>Olivia's Summer Heart Box</td>\n",
       "      <td>Friends</td>\n",
       "      <td>93</td>\n",
       "      <td>7.99</td>\n",
       "      <td>7.99</td>\n",
       "      <td>2019</td>\n",
       "      <td>Ages_6+</td>\n",
       "      <td>2.0</td>\n",
       "      <td>0.00</td>\n",
       "    </tr>\n",
       "    <tr>\n",
       "      <th>32</th>\n",
       "      <td>Mia's Forest Adventures</td>\n",
       "      <td>Friends</td>\n",
       "      <td>134</td>\n",
       "      <td>14.99</td>\n",
       "      <td>18.95</td>\n",
       "      <td>2019</td>\n",
       "      <td>Ages_6+</td>\n",
       "      <td>1.0</td>\n",
       "      <td>3.96</td>\n",
       "    </tr>\n",
       "    <tr>\n",
       "      <th>30</th>\n",
       "      <td>Stephanie's Heart Box</td>\n",
       "      <td>Friends</td>\n",
       "      <td>85</td>\n",
       "      <td>7.99</td>\n",
       "      <td>14.99</td>\n",
       "      <td>2019</td>\n",
       "      <td>Ages_6+</td>\n",
       "      <td>1.0</td>\n",
       "      <td>7.00</td>\n",
       "    </tr>\n",
       "    <tr>\n",
       "      <th>38</th>\n",
       "      <td>Andrea's Summer Heart Box</td>\n",
       "      <td>Friends</td>\n",
       "      <td>83</td>\n",
       "      <td>7.99</td>\n",
       "      <td>14.99</td>\n",
       "      <td>2019</td>\n",
       "      <td>Ages_6+</td>\n",
       "      <td>1.0</td>\n",
       "      <td>7.00</td>\n",
       "    </tr>\n",
       "    <tr>\n",
       "      <th>31</th>\n",
       "      <td>Mia's Heart Box</td>\n",
       "      <td>Friends</td>\n",
       "      <td>83</td>\n",
       "      <td>7.99</td>\n",
       "      <td>18.64</td>\n",
       "      <td>2019</td>\n",
       "      <td>Ages_6+</td>\n",
       "      <td>1.0</td>\n",
       "      <td>10.65</td>\n",
       "    </tr>\n",
       "    <tr>\n",
       "      <th>36</th>\n",
       "      <td>Turtles Rescue Mission</td>\n",
       "      <td>Friends</td>\n",
       "      <td>225</td>\n",
       "      <td>19.99</td>\n",
       "      <td>31.27</td>\n",
       "      <td>2019</td>\n",
       "      <td>Ages_6+</td>\n",
       "      <td>2.0</td>\n",
       "      <td>11.28</td>\n",
       "    </tr>\n",
       "  </tbody>\n",
       "</table>\n",
       "</div>"
      ],
      "text/plain": [
       "                       set_name    theme  pieces  price  amazon_price  year  \\\n",
       "35          Andrea's Pool Party  Friends     468  49.99         40.00  2019   \n",
       "37      Dolphins Rescue Mission  Friends     363  39.99         31.67  2019   \n",
       "34                  Mia's House  Friends     715  69.99         62.99  2019   \n",
       "60                   Fire Plane     City     363  59.99         53.99  2019   \n",
       "33  Stephanie's Obstacle Course  Friends     337  39.99         35.99  2019   \n",
       "39    Olivia's Summer Heart Box  Friends      93   7.99          7.99  2019   \n",
       "32      Mia's Forest Adventures  Friends     134  14.99         18.95  2019   \n",
       "30        Stephanie's Heart Box  Friends      85   7.99         14.99  2019   \n",
       "38    Andrea's Summer Heart Box  Friends      83   7.99         14.99  2019   \n",
       "31              Mia's Heart Box  Friends      83   7.99         18.64  2019   \n",
       "36       Turtles Rescue Mission  Friends     225  19.99         31.27  2019   \n",
       "\n",
       "       ages  minifigures  price_difference  \n",
       "35  Ages_6+          2.0             -9.99  \n",
       "37  Ages_6+          2.0             -8.32  \n",
       "34  Ages_6+          3.0             -7.00  \n",
       "60  Ages_6+          3.0             -6.00  \n",
       "33  Ages_6+          2.0             -4.00  \n",
       "39  Ages_6+          2.0              0.00  \n",
       "32  Ages_6+          1.0              3.96  \n",
       "30  Ages_6+          1.0              7.00  \n",
       "38  Ages_6+          1.0              7.00  \n",
       "31  Ages_6+          1.0             10.65  \n",
       "36  Ages_6+          2.0             11.28  "
      ]
     },
     "execution_count": 303,
     "metadata": {},
     "output_type": "execute_result"
    }
   ],
   "source": [
    "df_q7 = df_q7[df_q7['year'] == 2019]\n",
    "df_q7.sort_values('price_difference')"
   ]
  },
  {
   "cell_type": "markdown",
   "id": "d34e0862-c94f-41c5-9e95-a3f8801ef80f",
   "metadata": {},
   "source": [
    "#### Immediately, I see two options depending on if the child prefers boy's or girl's LEGO sets.\n",
    "#### If they prefer boy's sets, the best would be the Fire Plane from the City theme for $53.99."
   ]
  },
  {
   "cell_type": "markdown",
   "id": "f34a77a5-fb6a-454a-b5fb-c7ff7194be4d",
   "metadata": {},
   "source": [
    "#### If they prefer girl's sets, the best would be Andrea's Pool Party from the Friends theme for $40.00."
   ]
  },
  {
   "cell_type": "markdown",
   "id": "50e9c1ad-5cee-486c-9963-982501b4c3a5",
   "metadata": {},
   "source": []
  }
 ],
 "metadata": {
  "kernelspec": {
   "display_name": "Python 3 (ipykernel)",
   "language": "python",
   "name": "python3"
  },
  "language_info": {
   "codemirror_mode": {
    "name": "ipython",
    "version": 3
   },
   "file_extension": ".py",
   "mimetype": "text/x-python",
   "name": "python",
   "nbconvert_exporter": "python",
   "pygments_lexer": "ipython3",
   "version": "3.11.7"
  }
 },
 "nbformat": 4,
 "nbformat_minor": 5
}
